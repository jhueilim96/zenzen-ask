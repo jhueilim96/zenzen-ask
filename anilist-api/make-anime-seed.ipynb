{
 "cells": [
  {
   "cell_type": "code",
   "execution_count": 1,
   "metadata": {},
   "outputs": [],
   "source": [
    "import duckdb\n",
    "from pathlib import Path"
   ]
  },
  {
   "cell_type": "code",
   "execution_count": 134,
   "metadata": {},
   "outputs": [
    {
     "data": {
      "text/plain": [
       "'c:\\\\Users\\\\JH\\\\project\\\\road-to-data-engineer\\\\graph-search\\\\graph-search-data-engineering\\\\raw\\\\entity\\\\anime\\\\*.json'"
      ]
     },
     "execution_count": 134,
     "metadata": {},
     "output_type": "execute_result"
    }
   ],
   "source": [
    "base_path = Path().cwd().parent\n",
    "storage_path = base_path / Path('raw/entity/anime/*.json')"
   ]
  },
  {
   "cell_type": "code",
   "execution_count": 34,
   "metadata": {},
   "outputs": [],
   "source": [
    "columns1 = \"\"\"\n",
    "Page: 'STRUCT(\n",
    "    pageInfo STRUCT,\n",
    "    media STRUCT\n",
    ")'\n",
    "\"\"\"\n",
    "\n",
    "columns2 = {\n",
    "'Page': \"\"\"\n",
    "STRUCT(\n",
    "    pageInfo STRUCT(\n",
    "        total INT, \n",
    "        currentPage INT\n",
    "    ),\n",
    "    media STRUCT(\n",
    "        id BIGINT,\n",
    "        title STRUCT(\n",
    "            romaji VARCHAR,\n",
    "            english VARCHAR,\n",
    "            native VARCHAR\n",
    "        ),\n",
    "        type VARCHAR\n",
    "    )[]\n",
    ")\n",
    "\"\"\"\n",
    "}"
   ]
  },
  {
   "cell_type": "code",
   "execution_count": 135,
   "metadata": {},
   "outputs": [],
   "source": [
    "df_page = duckdb.read_json(str(storage_path), format='auto')"
   ]
  },
  {
   "cell_type": "code",
   "execution_count": 137,
   "metadata": {},
   "outputs": [],
   "source": [
    "df_media = duckdb.sql(\"\"\"\n",
    "WITH df_page_media AS (\n",
    "    SELECT\n",
    "        UNNEST(\n",
    "           (json_extract(df_page, '$.Page.media'))::JSON[]\n",
    "        ) media\n",
    "    FROM df_page \n",
    ")\n",
    "SELECT \n",
    "    d->'media'->>'id' media_id\n",
    "    ,d->'media'->'title'->>'romaji' title_romaji\n",
    "    ,d->'media'->'title'->>'romaji' title_english\n",
    "    ,d->'media'->'title'->>'romaji' title_native\n",
    "    ,d->'media'->>'type' \"type\"\n",
    "    ,d->'media'->>'format' format\n",
    "    ,d->'media'->>'description' \"description\"\n",
    "    ,d->'media'->'startDate'->>'year' \"start_date_year\"\n",
    "    ,d->'media'->'startDate'->>'month' \"start_date_month\"\n",
    "    ,d->'media'->'startDate'->>'day' \"start_date_day\"\n",
    "    ,d->'media'->'endDate'->>'year' \"end_date_year\"\n",
    "    ,d->'media'->'endDate'->>'month' \"end_date_month\"\n",
    "    ,d->'media'->'endDate'->>'day' \"end_date_day\"\n",
    "    ,d->'media'->>'season' \"season\"\n",
    "    ,d->'media'->>'seasonYear' \"season_year\"\n",
    "    ,d->'media'->>'seasonInt' \"season_int\"\n",
    "    ,d->'media'->>'episodes' \"episodes\"\n",
    "    ,d->'media'->>'duration' \"duration\"\n",
    "    ,d->'media'->>'volumes' \"volumes\"\n",
    "    ,d->'media'->>'countryOfOrigin' \"country_of_origin\"\n",
    "    ,d->'media'->>'source' \"source\"\n",
    "    ,(d->'media'->>'averageScore')::INT \"averageScore\"\n",
    "    ,(d->'media'->>'meanScore')::INT \"meanScore\"\n",
    "    ,(d->'media'->>'popularity')::INT64 \"popularity\"\n",
    "    ,(d->'media'->>'trending')::INT \"trending\"\n",
    "    ,(d->'media'->>'favourites')::INT \"favourites\"\n",
    "    ,(d->'media'->>'isAdult')::BOOLEAN \"isAdult\"\n",
    "    ,(d->'media'->'genres')::VARCHAR[] \"genres\"\n",
    "    ,(d->'media'->'synonyms')::VARCHAR[] \"synonyms\"\n",
    "    ,(d->'media'->'tags')::JSON[] \"tags\"\n",
    "    ,(d->'media'->'externalLinks')::JSON[] \"external_links\"\n",
    "FROM df_page_media d\n",
    "\"\"\")"
   ]
  },
  {
   "cell_type": "code",
   "execution_count": 138,
   "metadata": {},
   "outputs": [],
   "source": [
    "df_media_genres = duckdb.sql(\"\"\"\n",
    "SELECT \n",
    "    media_id, UNNEST(genres) \"genres\"\n",
    "FROM df_media\n",
    "\"\"\")"
   ]
  },
  {
   "cell_type": "code",
   "execution_count": 139,
   "metadata": {},
   "outputs": [],
   "source": [
    "df_media_synonym = duckdb.sql(\"\"\"\n",
    "SELECT \n",
    "    media_id, UNNEST(synonyms) \"synonyms\"\n",
    "FROM df_media\n",
    "\"\"\")"
   ]
  },
  {
   "cell_type": "code",
   "execution_count": 140,
   "metadata": {},
   "outputs": [],
   "source": [
    "df_meda_tags = duckdb.sql(\"\"\"\n",
    "WITH tb_media_tags AS (\n",
    "SELECT \n",
    "    media_id, UNNEST(tags) \"tags\"\n",
    "FROM df_media\n",
    ")\n",
    "SELECT\n",
    "    media_id\n",
    "    ,d->'tags'->>'id' \"tag_id\"\n",
    "    ,d->'tags'->>'name' \"tag_name\"\n",
    "FROM tb_media_tags d\n",
    "\"\"\")"
   ]
  },
  {
   "cell_type": "code",
   "execution_count": 141,
   "metadata": {},
   "outputs": [],
   "source": [
    "df_media_link = duckdb.sql(\"\"\"\n",
    "WITH tb_media_link AS (\n",
    "SELECT \n",
    "    media_id, UNNEST(external_links) \"links\"\n",
    "FROM df_media\n",
    ")\n",
    "SELECT\n",
    "    media_id\n",
    "    ,d->'links'->>'id' \"link_id\"\n",
    "    ,d->'links'->>'url' \"url\"\n",
    "    ,d->'links'->>'site' \"site\"\n",
    "    ,d->'links'->>'type' \"type\"\n",
    "    ,d->'links'->>'siteId' \"siteId\"\n",
    "    ,d->'links'->>'language' \"language\"\n",
    "FROM tb_media_link d\n",
    "\"\"\")"
   ]
  },
  {
   "cell_type": "code",
   "execution_count": 145,
   "metadata": {},
   "outputs": [],
   "source": [
    "media_seed = duckdb.sql(\"\"\"\n",
    "SELECT DISTINCT media_id, title_english\n",
    "FROM df_media\n",
    "\"\"\")"
   ]
  },
  {
   "cell_type": "code",
   "execution_count": 146,
   "metadata": {},
   "outputs": [],
   "source": [
    "seed_storage_path = Path('raw/seed/top-anime.csv')\n",
    "seed_path = base_path / seed_storage_path"
   ]
  },
  {
   "cell_type": "code",
   "execution_count": 147,
   "metadata": {},
   "outputs": [],
   "source": [
    "media_seed.to_csv(str(seed_path))"
   ]
  },
  {
   "cell_type": "code",
   "execution_count": null,
   "metadata": {},
   "outputs": [],
   "source": []
  }
 ],
 "metadata": {
  "kernelspec": {
   "display_name": ".venv",
   "language": "python",
   "name": "python3"
  },
  "language_info": {
   "codemirror_mode": {
    "name": "ipython",
    "version": 3
   },
   "file_extension": ".py",
   "mimetype": "text/x-python",
   "name": "python",
   "nbconvert_exporter": "python",
   "pygments_lexer": "ipython3",
   "version": "3.10.3"
  }
 },
 "nbformat": 4,
 "nbformat_minor": 2
}
