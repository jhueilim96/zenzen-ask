{
 "cells": [
  {
   "cell_type": "markdown",
   "metadata": {},
   "source": [
    "### Anilist API Extraction Design \n",
    "\n",
    "#### Objective\n",
    "- Build a anime knowledge graph with media, character, producer etc\n",
    "- Build a entity search service powered by graph\n",
    "- Main entities\n",
    "  - Media (ANIME or MANGE)\n",
    "  - Character\n",
    "  - Staff\n",
    "  - AiringSchedule\n",
    "  - Studio\n",
    "\n",
    "#### Design Criteria & Constraint\n",
    "- Main enitity with pagination\n",
    "  - Max `50` per page\n",
    "  - Use indicator `['Page']['pageInfo']['hasNextPage'] = True`\n",
    "- API rate limit \n",
    "  - 90 per minutes (1.5 seconds per call)\n",
    "  - header key `'x-ratelimit-remaining'` \n",
    "- Connection pagination\n",
    "  - Connection has different pagination constraint depending on entity type (Eg., characters is 25 max per page)\n",
    "\n",
    "#### APIs Flow\n",
    "1. API 1 - Get media details loop through pagination of main entity.\n",
    "   1. Input: None\n",
    "   2. Output: List of `MediaDetails: Dict` & `MediaId`\n",
    "   3. Extract the list of ANIME ids and persist as seeds.\n",
    "2. API 2 - Get connection loop through pagination.\n",
    "   1. Input: `MediaId`\n",
    "   2. Output: `list[MediaId, CharacterId]`\n",
    "3. API 3 - Get details of connected entities\n",
    "   1. Input: `CharacterId`\n",
    "   2. Output: `CharacterDetails: Dict`\n",
    "\n",
    "#### Storage Design\n",
    "Storage Directory\n",
    "```json\n",
    "/raw\n",
    "  /seed\n",
    "    /anime\n",
    "      top100.csv\n",
    "  /entity\n",
    "    /anime\n",
    "      /page-1.json\n",
    "      /page-2.json\n",
    "      ...\n",
    "    /anime-character\n",
    "    /anime-studio\n",
    "    ...\n",
    "  /connection\n",
    "    /anime-character\n",
    "    /anime-studio\n",
    "    ...\n",
    "\n",
    "```\n",
    "\n",
    "File Structure \n",
    "- response from api to be parsed with key `data`\n",
    "- in each json, data is split into newline-deliminated json objects\n",
    "- this is to ease data loading in next stage"
   ]
  },
  {
   "cell_type": "markdown",
   "metadata": {},
   "source": [
    "#### Task\n",
    "\n",
    "- [x] Develop general api call function\n",
    "- [ ] Make seed for Anime"
   ]
  }
 ],
 "metadata": {
  "kernelspec": {
   "display_name": ".venv",
   "language": "python",
   "name": "python3"
  },
  "language_info": {
   "codemirror_mode": {
    "name": "ipython",
    "version": 3
   },
   "file_extension": ".py",
   "mimetype": "text/x-python",
   "name": "python",
   "nbconvert_exporter": "python",
   "pygments_lexer": "ipython3",
   "version": "3.10.3"
  }
 },
 "nbformat": 4,
 "nbformat_minor": 2
}
