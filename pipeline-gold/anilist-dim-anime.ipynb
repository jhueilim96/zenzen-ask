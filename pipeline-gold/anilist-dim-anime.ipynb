{
 "cells": [
  {
   "cell_type": "code",
   "execution_count": 1,
   "metadata": {},
   "outputs": [
    {
     "data": {
      "text/plain": [
       "True"
      ]
     },
     "execution_count": 1,
     "metadata": {},
     "output_type": "execute_result"
    }
   ],
   "source": [
    "\n",
    "from dotenv import load_dotenv\n",
    "import duckdb\n",
    "from pathlib import Path\n",
    "\n",
    "load_dotenv()"
   ]
  },
  {
   "cell_type": "code",
   "execution_count": 2,
   "metadata": {},
   "outputs": [],
   "source": [
    "base_path = Path().cwd().parent\n",
    "source_path = base_path / Path('silver/anilist/anime/anime-2024-1-25.parquet')\n",
    "target_path = base_path / Path('gold/anilist/dim-anime.parquet')"
   ]
  },
  {
   "cell_type": "code",
   "execution_count": 3,
   "metadata": {},
   "outputs": [],
   "source": [
    "tb = duckdb.read_parquet(str(source_path))"
   ]
  },
  {
   "cell_type": "code",
   "execution_count": 4,
   "metadata": {},
   "outputs": [],
   "source": [
    "tb_dim = duckdb.sql(\"\"\"\n",
    "WITH tb_filter_col AS (\n",
    "    SELECT\n",
    "        id AS anime_id\n",
    "        , title\n",
    "        , type\n",
    "        , format\n",
    "        , description\n",
    "        , season\n",
    "        , seasonYear\n",
    "        , seasonInt\n",
    "        , episodes\n",
    "        , duration\n",
    "        , chapters\n",
    "        , volumes\n",
    "        , countryOfOrigin\n",
    "        , source\n",
    "        , genres\n",
    "        , synonyms\n",
    "        , averageScore\n",
    "        , meanScore\n",
    "        , popularity\n",
    "        , trending\n",
    "        , favourites\n",
    "        , isAdult\n",
    "        , startDate\n",
    "        , endDate\n",
    "    FROM tb\n",
    "), dedupe AS (\n",
    "    SELECT\n",
    "        anime_id\n",
    "        , ANY_VALUE(title) AS title\n",
    "        , ANY_VALUE(type) AS type\n",
    "        , ANY_VALUE(format) AS format\n",
    "        , ANY_VALUE(description) AS description\n",
    "        , ANY_VALUE(season) AS season\n",
    "        , ANY_VALUE(seasonYear) AS seasonYear\n",
    "        , ANY_VALUE(seasonInt) AS seasonInt\n",
    "        , ANY_VALUE(episodes) AS episodes\n",
    "        , ANY_VALUE(duration) AS duration\n",
    "        , ANY_VALUE(chapters) AS chapters\n",
    "        , ANY_VALUE(volumes) AS volumes\n",
    "        , ANY_VALUE(countryOfOrigin) AS countryOfOrigin\n",
    "        , ANY_VALUE(source) AS source\n",
    "        , ANY_VALUE(genres) AS genres\n",
    "        , ANY_VALUE(synonyms) AS synonyms\n",
    "        , ANY_VALUE(averageScore) AS averageScore\n",
    "        , ANY_VALUE(meanScore) AS meanScore\n",
    "        , ANY_VALUE(popularity) AS popularity\n",
    "        , ANY_VALUE(trending) AS trending\n",
    "        , ANY_VALUE(favourites) AS favourites\n",
    "        , ANY_VALUE(isAdult) AS isAdult\n",
    "        , ANY_VALUE(startDate) AS startDate\n",
    "        , ANY_VALUE(endDate) AS endDate\n",
    "    FROM tb_filter_col\n",
    "    GROUP BY (anime_id )\n",
    ")\n",
    "SELECT *\n",
    "FROM dedupe\n",
    "\"\"\")"
   ]
  },
  {
   "cell_type": "code",
   "execution_count": 5,
   "metadata": {},
   "outputs": [
    {
     "data": {
      "text/plain": [
       "(759, 24)"
      ]
     },
     "execution_count": 5,
     "metadata": {},
     "output_type": "execute_result"
    }
   ],
   "source": [
    "tb_dim.shape"
   ]
  },
  {
   "cell_type": "code",
   "execution_count": 6,
   "metadata": {},
   "outputs": [],
   "source": [
    "tb_dim.to_parquet(str(target_path))"
   ]
  }
 ],
 "metadata": {
  "kernelspec": {
   "display_name": ".venv",
   "language": "python",
   "name": "python3"
  },
  "language_info": {
   "codemirror_mode": {
    "name": "ipython",
    "version": 3
   },
   "file_extension": ".py",
   "mimetype": "text/x-python",
   "name": "python",
   "nbconvert_exporter": "python",
   "pygments_lexer": "ipython3",
   "version": "3.10.13"
  }
 },
 "nbformat": 4,
 "nbformat_minor": 2
}
