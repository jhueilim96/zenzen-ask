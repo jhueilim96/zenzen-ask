{
 "cells": [
  {
   "cell_type": "code",
   "execution_count": 2,
   "metadata": {},
   "outputs": [
    {
     "data": {
      "text/plain": [
       "True"
      ]
     },
     "execution_count": 2,
     "metadata": {},
     "output_type": "execute_result"
    }
   ],
   "source": [
    "\n",
    "from dotenv import load_dotenv\n",
    "import duckdb\n",
    "from pathlib import Path\n",
    "\n",
    "# testing\n",
    "load_dotenv()"
   ]
  },
  {
   "cell_type": "code",
   "execution_count": 23,
   "metadata": {},
   "outputs": [],
   "source": [
    "base_path = Path().cwd().parent\n",
    "source_path = base_path / Path('silver/anilist/character/character-2024-1-17.parquet')\n",
    "target_path = base_path / Path('gold/anilist/dim-character.parquet')"
   ]
  },
  {
   "cell_type": "code",
   "execution_count": 4,
   "metadata": {},
   "outputs": [],
   "source": [
    "tb = duckdb.read_parquet(str(source_path))"
   ]
  },
  {
   "cell_type": "code",
   "execution_count": 24,
   "metadata": {},
   "outputs": [],
   "source": [
    "tb_dim = duckdb.sql(\"\"\"\n",
    "WITH tb_filter_col AS (\n",
    "    SELECT\n",
    "        character_id\n",
    "        , name_first\n",
    "        , name_middle\n",
    "        , name_last\n",
    "        , name_full\n",
    "        , name_native\n",
    "        , name_alternative\n",
    "        , image\n",
    "        , description\n",
    "        , gender\n",
    "        , make_date(dateOfBirth_year, dateOfBirth_month, dateOfBirth_day) AS dateOfBirth\n",
    "        , age\n",
    "        , bloodType\n",
    "        , siteUrl\n",
    "    FROM tb\n",
    "), dedupe AS (\n",
    "    SELECT\n",
    "        character_id\n",
    "        , max(name_first) AS name_first\n",
    "        , max(name_middle) AS name_middle\n",
    "        , max(name_last) AS name_last\n",
    "        , max(name_full) AS name_full\n",
    "        , max(name_native) AS name_native\n",
    "        , max(name_alternative) AS name_alternative\n",
    "        , max(image) AS image\n",
    "        , max(description) AS description\n",
    "        , max(gender) AS gender\n",
    "        , max(dateOfBirth) AS date_of_birth\n",
    "        , max(age) AS age\n",
    "        , max(bloodType) AS blood_type\n",
    "        , max(siteUrl) AS site_url\n",
    "        , current_date AS last_updated\n",
    "    FROM tb_filter_col\n",
    "    GROUP BY (character_id )\n",
    ")\n",
    "SELECT *\n",
    "FROM dedupe\n",
    "\"\"\")"
   ]
  },
  {
   "cell_type": "code",
   "execution_count": 25,
   "metadata": {},
   "outputs": [],
   "source": [
    "tb_dim.to_parquet(str(target_path))"
   ]
  }
 ],
 "metadata": {
  "kernelspec": {
   "display_name": ".venv",
   "language": "python",
   "name": "python3"
  },
  "language_info": {
   "codemirror_mode": {
    "name": "ipython",
    "version": 3
   },
   "file_extension": ".py",
   "mimetype": "text/x-python",
   "name": "python",
   "nbconvert_exporter": "python",
   "pygments_lexer": "ipython3",
   "version": "3.10.13"
  }
 },
 "nbformat": 4,
 "nbformat_minor": 2
}
