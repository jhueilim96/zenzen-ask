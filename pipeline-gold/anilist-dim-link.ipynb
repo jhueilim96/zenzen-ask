{
 "cells": [
  {
   "cell_type": "code",
   "execution_count": 1,
   "metadata": {},
   "outputs": [
    {
     "data": {
      "text/plain": [
       "True"
      ]
     },
     "execution_count": 1,
     "metadata": {},
     "output_type": "execute_result"
    }
   ],
   "source": [
    "\n",
    "from dotenv import load_dotenv\n",
    "import duckdb\n",
    "from pathlib import Path\n",
    "\n",
    "load_dotenv()"
   ]
  },
  {
   "cell_type": "code",
   "execution_count": 2,
   "metadata": {},
   "outputs": [],
   "source": [
    "base_path = Path().cwd().parent\n",
    "source_path = base_path / Path('silver/anilist/link/link-2024-1-25.parquet')\n",
    "target_path = base_path / Path('gold/anilist/dim-link.parquet')"
   ]
  },
  {
   "cell_type": "code",
   "execution_count": 3,
   "metadata": {},
   "outputs": [],
   "source": [
    "tb = duckdb.read_parquet(str(source_path))"
   ]
  },
  {
   "cell_type": "code",
   "execution_count": 4,
   "metadata": {},
   "outputs": [
    {
     "data": {
      "text/plain": [
       "(591, 7)"
      ]
     },
     "execution_count": 4,
     "metadata": {},
     "output_type": "execute_result"
    }
   ],
   "source": [
    "tb.shape"
   ]
  },
  {
   "cell_type": "code",
   "execution_count": 5,
   "metadata": {},
   "outputs": [],
   "source": [
    "tb_dim = duckdb.sql(\"\"\"\n",
    "WITH tb_filter_col AS (\n",
    "    SELECT\n",
    "        id AS url_id\n",
    "        , url\n",
    "        , site\n",
    "        , type AS site_type\n",
    "        , siteId AS site_id\n",
    "        , language\n",
    "    FROM tb\n",
    "), dedupe AS (\n",
    "    SELECT\n",
    "        url_id\n",
    "        , ANY_VALUE(url) AS url\n",
    "        , ANY_VALUE(site) AS site\n",
    "        , ANY_VALUE(site_type) AS site_type\n",
    "        , ANY_VALUE(site_id) AS site_id\n",
    "        , ANY_VALUE(language) AS language\n",
    "    FROM tb_filter_col\n",
    "    GROUP BY (url_id )\n",
    ")\n",
    "SELECT *\n",
    "FROM dedupe\n",
    "\"\"\")"
   ]
  },
  {
   "cell_type": "code",
   "execution_count": 6,
   "metadata": {},
   "outputs": [
    {
     "data": {
      "text/plain": [
       "(589, 6)"
      ]
     },
     "execution_count": 6,
     "metadata": {},
     "output_type": "execute_result"
    }
   ],
   "source": [
    "tb_dim.shape"
   ]
  },
  {
   "cell_type": "code",
   "execution_count": 7,
   "metadata": {},
   "outputs": [],
   "source": [
    "tb_dim.to_parquet(str(target_path))"
   ]
  }
 ],
 "metadata": {
  "kernelspec": {
   "display_name": ".venv",
   "language": "python",
   "name": "python3"
  },
  "language_info": {
   "codemirror_mode": {
    "name": "ipython",
    "version": 3
   },
   "file_extension": ".py",
   "mimetype": "text/x-python",
   "name": "python",
   "nbconvert_exporter": "python",
   "pygments_lexer": "ipython3",
   "version": "3.10.13"
  }
 },
 "nbformat": 4,
 "nbformat_minor": 2
}
