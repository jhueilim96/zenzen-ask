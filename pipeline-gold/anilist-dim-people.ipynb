{
 "cells": [
  {
   "cell_type": "code",
   "execution_count": 1,
   "metadata": {},
   "outputs": [
    {
     "data": {
      "text/plain": [
       "True"
      ]
     },
     "execution_count": 1,
     "metadata": {},
     "output_type": "execute_result"
    }
   ],
   "source": [
    "\n",
    "from dotenv import load_dotenv\n",
    "import duckdb\n",
    "from pathlib import Path\n",
    "\n",
    "load_dotenv()"
   ]
  },
  {
   "cell_type": "code",
   "execution_count": 74,
   "metadata": {},
   "outputs": [],
   "source": [
    "base_path = Path().cwd().parent\n",
    "source_1_path = base_path / Path('silver/anilist/voice-actor/voice-actor-2024-1-15.parquet')\n",
    "source_2_path = base_path / Path('silver/anilist/staff/staff-2024-1-16.parquet')\n",
    "target_path = base_path / Path('gold/anilist/dim_people.parquet')"
   ]
  },
  {
   "cell_type": "code",
   "execution_count": 34,
   "metadata": {},
   "outputs": [],
   "source": [
    "tb_va = duckdb.read_parquet(str(source_1_path))\n",
    "tb_staff = duckdb.read_parquet(str(source_2_path))"
   ]
  },
  {
   "cell_type": "code",
   "execution_count": 35,
   "metadata": {},
   "outputs": [
    {
     "data": {
      "text/plain": [
       "(62, 5)"
      ]
     },
     "execution_count": 35,
     "metadata": {},
     "output_type": "execute_result"
    }
   ],
   "source": [
    "tb_va.shape"
   ]
  },
  {
   "cell_type": "code",
   "execution_count": 79,
   "metadata": {},
   "outputs": [
    {
     "data": {
      "text/plain": [
       "(51710, 26)"
      ]
     },
     "execution_count": 79,
     "metadata": {},
     "output_type": "execute_result"
    }
   ],
   "source": [
    "tb_staff.shape"
   ]
  },
  {
   "cell_type": "code",
   "execution_count": 71,
   "metadata": {},
   "outputs": [],
   "source": [
    "tb_dim = duckdb.sql(\"\"\"\n",
    "WITH source_va AS (\n",
    "    SELECT \n",
    "        id AS people_id\n",
    "        , name_first\n",
    "        , name_last\n",
    "    FROM tb_va  \n",
    "), source_staff AS (\n",
    "    SELECT\n",
    "        staff_id AS people_id\n",
    "        , name_first\n",
    "        , name_middle\n",
    "        , name_last\n",
    "        , name_full\n",
    "        , name_native\n",
    "        , name_alternative\n",
    "        , language\n",
    "        , image_medium\n",
    "        , description\n",
    "        , primaryOccupations\n",
    "        , gender\n",
    "        , make_date(dateOfBirth_year, dateOfBirth_month, dateOfBirth_day) AS dateOfBirth\n",
    "        --, make_date(dateOfDeath_year, dateOfDeath_month, dateOfDeath_day) AS dateOfDeath  -- Discard due to data quality\n",
    "        , age\n",
    "        , yearsActive\n",
    "        , homeTown\n",
    "        , bloodType\n",
    "        , siteUrl\n",
    "        FROM tb_staff\n",
    "), source_union AS (\n",
    "    SELECT * FROM source_va UNION ALL BY NAME SELECT * FROM source_staff\n",
    "), dedupe AS (\n",
    "    SELECT\n",
    "        people_id\n",
    "        , ANY_VALUE(name_first) AS name_first\n",
    "        , ANY_VALUE(name_middle) AS name_middle\n",
    "        , ANY_VALUE(name_last) AS name_last\n",
    "        , ANY_VALUE(name_full) AS name_full\n",
    "        , ANY_VALUE(name_native) AS name_native\n",
    "        , ANY_VALUE(name_alternative) AS name_alternative\n",
    "        , ANY_VALUE(language) AS language\n",
    "        , ANY_VALUE(image_medium) AS image_medium\n",
    "        , ANY_VALUE(description) AS description\n",
    "        , ANY_VALUE(primaryOccupations) AS primaryOccupations\n",
    "        , ANY_VALUE(gender) AS gender\n",
    "        , ANY_VALUE(dateOfBirth) AS dateOfBirth\n",
    "        , ANY_VALUE(age) AS age\n",
    "        , ANY_VALUE(yearsActive) AS yearsActive\n",
    "        , ANY_VALUE(homeTown) AS homeTown\n",
    "        , ANY_VALUE(bloodType) AS bloodType\n",
    "        , ANY_VALUE(siteUrl) AS siteUrl\n",
    "    FROM source_union\n",
    "    GROUP BY (people_id)\n",
    ")\n",
    "    \n",
    "    SELECT * FROM dedupe\n",
    "\n",
    "\"\"\")\n",
    "# SELECT DISTINCT v.id, s.staff_id, v.name_first, s.name_first\n",
    "# FROM tb_va v FULL JOIN tb_staff s ON v.id=s.staff_id"
   ]
  },
  {
   "cell_type": "code",
   "execution_count": 76,
   "metadata": {},
   "outputs": [
    {
     "data": {
      "text/plain": [
       "(14345, 18)"
      ]
     },
     "execution_count": 76,
     "metadata": {},
     "output_type": "execute_result"
    }
   ],
   "source": [
    "tb_dim.shape"
   ]
  },
  {
   "cell_type": "code",
   "execution_count": 75,
   "metadata": {},
   "outputs": [],
   "source": [
    "tb_dim.to_parquet(str(target_path))"
   ]
  }
 ],
 "metadata": {
  "kernelspec": {
   "display_name": ".venv",
   "language": "python",
   "name": "python3"
  },
  "language_info": {
   "codemirror_mode": {
    "name": "ipython",
    "version": 3
   },
   "file_extension": ".py",
   "mimetype": "text/x-python",
   "name": "python",
   "nbconvert_exporter": "python",
   "pygments_lexer": "ipython3",
   "version": "3.10.3"
  }
 },
 "nbformat": 4,
 "nbformat_minor": 2
}
