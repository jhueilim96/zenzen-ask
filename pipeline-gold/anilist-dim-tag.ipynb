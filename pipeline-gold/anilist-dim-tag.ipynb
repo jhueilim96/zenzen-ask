{
 "cells": [
  {
   "cell_type": "code",
   "execution_count": 2,
   "metadata": {},
   "outputs": [
    {
     "data": {
      "text/plain": [
       "True"
      ]
     },
     "execution_count": 2,
     "metadata": {},
     "output_type": "execute_result"
    }
   ],
   "source": [
    "\n",
    "from dotenv import load_dotenv\n",
    "import duckdb\n",
    "from pathlib import Path\n",
    "\n",
    "# testing\n",
    "load_dotenv()"
   ]
  },
  {
   "cell_type": "code",
   "execution_count": 7,
   "metadata": {},
   "outputs": [],
   "source": [
    "base_path = Path().cwd().parent\n",
    "source_path = base_path / Path('silver/anilist/tag/tag-2024-1-15.parquet')\n",
    "target_path = base_path / Path('gold/anilist/dim-tag.parquet')"
   ]
  },
  {
   "cell_type": "code",
   "execution_count": 8,
   "metadata": {},
   "outputs": [],
   "source": [
    "tb = duckdb.read_parquet(str(source_path))"
   ]
  },
  {
   "cell_type": "code",
   "execution_count": 9,
   "metadata": {},
   "outputs": [
    {
     "data": {
      "text/html": [
       "<div><style>\n",
       ".dataframe > thead > tr,\n",
       ".dataframe > tbody > tr {\n",
       "  text-align: right;\n",
       "  white-space: pre-wrap;\n",
       "}\n",
       "</style>\n",
       "<small>shape: (10, 3)</small><table border=\"1\" class=\"dataframe\"><thead><tr><th>id</th><th>name</th><th>anime_id</th></tr><tr><td>i32</td><td>str</td><td>i32</td></tr></thead><tbody><tr><td>98</td><td>&quot;&quot;Female Protag…</td><td>7</td></tr><tr><td>40</td><td>&quot;&quot;Police&quot;&quot;</td><td>7</td></tr><tr><td>29</td><td>&quot;&quot;Magic&quot;&quot;</td><td>7</td></tr><tr><td>321</td><td>&quot;&quot;Urban Fantasy…</td><td>7</td></tr><tr><td>456</td><td>&quot;&quot;Conspiracy&quot;&quot;</td><td>7</td></tr><tr><td>327</td><td>&quot;&quot;Noir&quot;&quot;</td><td>7</td></tr><tr><td>179</td><td>&quot;&quot;Witch&quot;&quot;</td><td>7</td></tr><tr><td>226</td><td>&quot;&quot;Fugitive&quot;&quot;</td><td>7</td></tr><tr><td>109</td><td>&quot;&quot;Primarily Adu…</td><td>7</td></tr><tr><td>779</td><td>&quot;&quot;Kuudere&quot;&quot;</td><td>7</td></tr></tbody></table></div>"
      ],
      "text/plain": [
       "shape: (10, 3)\n",
       "┌─────┬────────────────────────┬──────────┐\n",
       "│ id  ┆ name                   ┆ anime_id │\n",
       "│ --- ┆ ---                    ┆ ---      │\n",
       "│ i32 ┆ str                    ┆ i32      │\n",
       "╞═════╪════════════════════════╪══════════╡\n",
       "│ 98  ┆ \"Female Protagonist\"   ┆ 7        │\n",
       "│ 40  ┆ \"Police\"               ┆ 7        │\n",
       "│ 29  ┆ \"Magic\"                ┆ 7        │\n",
       "│ 321 ┆ \"Urban Fantasy\"        ┆ 7        │\n",
       "│ …   ┆ …                      ┆ …        │\n",
       "│ 179 ┆ \"Witch\"                ┆ 7        │\n",
       "│ 226 ┆ \"Fugitive\"             ┆ 7        │\n",
       "│ 109 ┆ \"Primarily Adult Cast\" ┆ 7        │\n",
       "│ 779 ┆ \"Kuudere\"              ┆ 7        │\n",
       "└─────┴────────────────────────┴──────────┘"
      ]
     },
     "execution_count": 9,
     "metadata": {},
     "output_type": "execute_result"
    }
   ],
   "source": [
    "tb.limit(10).pl()"
   ]
  },
  {
   "cell_type": "code",
   "execution_count": 11,
   "metadata": {},
   "outputs": [],
   "source": [
    "tb_dim = duckdb.sql(\"\"\"\n",
    "WITH tb_filter_col AS (\n",
    "    SELECT\n",
    "        id AS tag_id\n",
    "        , name\n",
    "    FROM tb\n",
    "), dedupe AS (\n",
    "    SELECT\n",
    "        tag_id\n",
    "        , ANY_VALUE(name) AS name\n",
    "    FROM tb_filter_col\n",
    "    GROUP BY (tag_id )\n",
    ")\n",
    "SELECT *\n",
    "FROM dedupe\n",
    "\"\"\")"
   ]
  },
  {
   "cell_type": "code",
   "execution_count": 12,
   "metadata": {},
   "outputs": [
    {
     "data": {
      "text/plain": [
       "(287, 2)"
      ]
     },
     "execution_count": 12,
     "metadata": {},
     "output_type": "execute_result"
    }
   ],
   "source": [
    "tb_dim.shape"
   ]
  },
  {
   "cell_type": "code",
   "execution_count": 13,
   "metadata": {},
   "outputs": [],
   "source": [
    "tb_dim.to_parquet(str(target_path))"
   ]
  }
 ],
 "metadata": {
  "kernelspec": {
   "display_name": ".venv",
   "language": "python",
   "name": "python3"
  },
  "language_info": {
   "codemirror_mode": {
    "name": "ipython",
    "version": 3
   },
   "file_extension": ".py",
   "mimetype": "text/x-python",
   "name": "python",
   "nbconvert_exporter": "python",
   "pygments_lexer": "ipython3",
   "version": "3.10.13"
  }
 },
 "nbformat": 4,
 "nbformat_minor": 2
}
