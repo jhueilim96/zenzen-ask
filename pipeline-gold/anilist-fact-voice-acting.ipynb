{
 "cells": [
  {
   "cell_type": "code",
   "execution_count": 1,
   "metadata": {},
   "outputs": [
    {
     "data": {
      "text/plain": [
       "True"
      ]
     },
     "execution_count": 1,
     "metadata": {},
     "output_type": "execute_result"
    }
   ],
   "source": [
    "\n",
    "from dotenv import load_dotenv\n",
    "import duckdb\n",
    "from pathlib import Path\n",
    "\n",
    "load_dotenv()"
   ]
  },
  {
   "cell_type": "code",
   "execution_count": 2,
   "metadata": {},
   "outputs": [],
   "source": [
    "base_path = Path().cwd().parent\n",
    "source_path = base_path / Path('silver/anilist/voice-actor/voice-actor-2024-1-15.parquet')\n",
    "target_path = base_path / Path('gold/anilist/fact-voice-act.parquet')"
   ]
  },
  {
   "cell_type": "code",
   "execution_count": 3,
   "metadata": {},
   "outputs": [],
   "source": [
    "tb_va = duckdb.read_parquet(str(source_1_path))\n",
    "tb_staff = duckdb.read_parquet(str(source_2_path))"
   ]
  },
  {
   "cell_type": "code",
   "execution_count": 10,
   "metadata": {},
   "outputs": [
    {
     "data": {
      "text/html": [
       "<div><style>\n",
       ".dataframe > thead > tr,\n",
       ".dataframe > tbody > tr {\n",
       "  text-align: right;\n",
       "  white-space: pre-wrap;\n",
       "}\n",
       "</style>\n",
       "<small>shape: (10, 5)</small><table border=\"1\" class=\"dataframe\"><thead><tr><th>id</th><th>name_first</th><th>name_last</th><th>anime_id</th><th>role</th></tr><tr><td>i32</td><td>str</td><td>str</td><td>i32</td><td>str</td></tr></thead><tbody><tr><td>95018</td><td>&quot;&quot;Hidekatsu&quot;&quot;</td><td>&quot;&quot;Shibata&quot;&quot;</td><td>1000</td><td>&quot;&quot;SUPPORTING&quot;&quot;</td></tr><tr><td>95021</td><td>&quot;&quot;Kazuhiko&quot;&quot;</td><td>&quot;&quot;Inoue&quot;&quot;</td><td>1000</td><td>&quot;&quot;SUPPORTING&quot;&quot;</td></tr><tr><td>95416</td><td>&quot;&quot;Akira&quot;&quot;</td><td>&quot;&quot;Kamiya&quot;&quot;</td><td>1000</td><td>&quot;&quot;MAIN&quot;&quot;</td></tr><tr><td>95481</td><td>&quot;&quot;Kenichi&quot;&quot;</td><td>&quot;&quot;Ogata&quot;&quot;</td><td>1000</td><td>&quot;&quot;SUPPORTING&quot;&quot;</td></tr><tr><td>95571</td><td>&quot;&quot;Mami&quot;&quot;</td><td>&quot;&quot;Koyama&quot;&quot;</td><td>1000</td><td>&quot;&quot;SUPPORTING&quot;&quot;</td></tr><tr><td>95571</td><td>&quot;&quot;Mami&quot;&quot;</td><td>&quot;&quot;Koyama&quot;&quot;</td><td>1000</td><td>&quot;&quot;SUPPORTING&quot;&quot;</td></tr><tr><td>95571</td><td>&quot;&quot;Mami&quot;&quot;</td><td>&quot;&quot;Koyama&quot;&quot;</td><td>1000</td><td>&quot;&quot;SUPPORTING&quot;&quot;</td></tr><tr><td>95670</td><td>&quot;&quot;Jouji&quot;&quot;</td><td>&quot;&quot;Yanami&quot;&quot;</td><td>1000</td><td>&quot;&quot;SUPPORTING&quot;&quot;</td></tr><tr><td>95670</td><td>&quot;&quot;Jouji&quot;&quot;</td><td>&quot;&quot;Yanami&quot;&quot;</td><td>1000</td><td>&quot;&quot;SUPPORTING&quot;&quot;</td></tr><tr><td>95760</td><td>&quot;&quot;Keiko&quot;&quot;</td><td>&quot;&quot;Han&quot;&quot;</td><td>1000</td><td>&quot;&quot;SUPPORTING&quot;&quot;</td></tr></tbody></table></div>"
      ],
      "text/plain": [
       "shape: (10, 5)\n",
       "┌───────┬─────────────┬───────────┬──────────┬──────────────┐\n",
       "│ id    ┆ name_first  ┆ name_last ┆ anime_id ┆ role         │\n",
       "│ ---   ┆ ---         ┆ ---       ┆ ---      ┆ ---          │\n",
       "│ i32   ┆ str         ┆ str       ┆ i32      ┆ str          │\n",
       "╞═══════╪═════════════╪═══════════╪══════════╪══════════════╡\n",
       "│ 95018 ┆ \"Hidekatsu\" ┆ \"Shibata\" ┆ 1000     ┆ \"SUPPORTING\" │\n",
       "│ 95021 ┆ \"Kazuhiko\"  ┆ \"Inoue\"   ┆ 1000     ┆ \"SUPPORTING\" │\n",
       "│ 95416 ┆ \"Akira\"     ┆ \"Kamiya\"  ┆ 1000     ┆ \"MAIN\"       │\n",
       "│ 95481 ┆ \"Kenichi\"   ┆ \"Ogata\"   ┆ 1000     ┆ \"SUPPORTING\" │\n",
       "│ …     ┆ …           ┆ …         ┆ …        ┆ …            │\n",
       "│ 95571 ┆ \"Mami\"      ┆ \"Koyama\"  ┆ 1000     ┆ \"SUPPORTING\" │\n",
       "│ 95670 ┆ \"Jouji\"     ┆ \"Yanami\"  ┆ 1000     ┆ \"SUPPORTING\" │\n",
       "│ 95670 ┆ \"Jouji\"     ┆ \"Yanami\"  ┆ 1000     ┆ \"SUPPORTING\" │\n",
       "│ 95760 ┆ \"Keiko\"     ┆ \"Han\"     ┆ 1000     ┆ \"SUPPORTING\" │\n",
       "└───────┴─────────────┴───────────┴──────────┴──────────────┘"
      ]
     },
     "execution_count": 10,
     "metadata": {},
     "output_type": "execute_result"
    }
   ],
   "source": [
    "tb_va.limit(10).pl()"
   ]
  },
  {
   "cell_type": "code",
   "execution_count": 4,
   "metadata": {},
   "outputs": [
    {
     "data": {
      "text/html": [
       "<div><style>\n",
       ".dataframe > thead > tr,\n",
       ".dataframe > tbody > tr {\n",
       "  text-align: right;\n",
       "  white-space: pre-wrap;\n",
       "}\n",
       "</style>\n",
       "<small>shape: (10, 26)</small><table border=\"1\" class=\"dataframe\"><thead><tr><th>anime_id</th><th>staff_edge_id</th><th>role</th><th>staff_id</th><th>name_first</th><th>name_middle</th><th>name_last</th><th>name_full</th><th>name_native</th><th>name_alternative</th><th>language</th><th>image_medium</th><th>description</th><th>primaryOccupations</th><th>gender</th><th>dateOfBirth_year</th><th>dateOfBirth_month</th><th>dateOfBirth_day</th><th>dateOfDeath_year</th><th>dateOfDeath_month</th><th>dateOfDeath_day</th><th>age</th><th>yearsActive</th><th>homeTown</th><th>bloodType</th><th>siteUrl</th></tr><tr><td>i32</td><td>i32</td><td>str</td><td>i32</td><td>str</td><td>str</td><td>str</td><td>str</td><td>str</td><td>list[str]</td><td>str</td><td>str</td><td>str</td><td>list[str]</td><td>str</td><td>i32</td><td>i32</td><td>i32</td><td>i32</td><td>i32</td><td>i32</td><td>i32</td><td>list[i32]</td><td>str</td><td>str</td><td>str</td></tr></thead><tbody><tr><td>1000</td><td>5629</td><td>&quot;&quot;Original Crea…</td><td>97597</td><td>&quot;&quot;Leiji&quot;&quot;</td><td>null</td><td>&quot;&quot;Matsumoto&quot;&quot;</td><td>&quot;&quot;Leiji Matsumo…</td><td>&quot;&quot;松本零士&quot;&quot;</td><td>[&quot;Akira Matsumoro&quot;, &quot;松本晟&quot;]</td><td>&quot;&quot;Japanese&quot;&quot;</td><td>&quot;&quot;https://s4.an…</td><td>&quot;&quot;[Twitter](htt…</td><td>[&quot;Mangaka&quot;]</td><td>&quot;&quot;Male&quot;&quot;</td><td>1938</td><td>1</td><td>25</td><td>2023</td><td>2</td><td>13</td><td>85</td><td>[1953, 2023]</td><td>&quot;&quot;Kurume, Fukuo…</td><td>&quot;&quot;B&quot;&quot;</td><td>&quot;&quot;https://anili…</td></tr><tr><td>1000</td><td>20222</td><td>&quot;&quot;Director&quot;&quot;</td><td>102305</td><td>&quot;&quot;Rintarou&quot;&quot;</td><td>null</td><td>&quot;&quot;&quot;&quot;</td><td>&quot;&quot;Rintarou&quot;&quot;</td><td>&quot;&quot;りんたろう&quot;&quot;</td><td>[&quot;Rin Tarou (りん・たろう)&quot;, &quot;Shigeyuki Hayashi (林重行)&quot;]</td><td>&quot;&quot;Japanese&quot;&quot;</td><td>&quot;&quot;https://s4.an…</td><td>&quot;&quot;Shigeyuki Hay…</td><td>[&quot;Director&quot;]</td><td>&quot;&quot;Male&quot;&quot;</td><td>1941</td><td>1</td><td>22</td><td>null</td><td>null</td><td>null</td><td>82</td><td>[1958, 2012]</td><td>&quot;&quot;Tokyo, Japan&quot;…</td><td>null</td><td>&quot;&quot;https://anili…</td></tr><tr><td>1000</td><td>31387</td><td>&quot;&quot;Music&quot;&quot;</td><td>105510</td><td>&quot;&quot;Seiji&quot;&quot;</td><td>null</td><td>&quot;&quot;Yokoyama&quot;&quot;</td><td>&quot;&quot;Seiji Yokoyam…</td><td>&quot;&quot;横山菁児&quot;&quot;</td><td>[]</td><td>&quot;&quot;Japanese&quot;&quot;</td><td>&quot;&quot;https://s4.an…</td><td>&quot;&quot;Seiji Yokoyam…</td><td>[]</td><td>null</td><td>1935</td><td>3</td><td>17</td><td>2017</td><td>7</td><td>8</td><td>82</td><td>[]</td><td>&quot;&quot;Hiroshima, Ja…</td><td>null</td><td>&quot;&quot;https://anili…</td></tr><tr><td>1000</td><td>34921</td><td>&quot;&quot;Music&quot;&quot;</td><td>106498</td><td>&quot;&quot;Nozomi&quot;&quot;</td><td>null</td><td>&quot;&quot;Aoki&quot;&quot;</td><td>&quot;&quot;Nozomi Aoki&quot;&quot;</td><td>&quot;&quot;青木望&quot;&quot;</td><td>[]</td><td>&quot;&quot;Japanese&quot;&quot;</td><td>&quot;&quot;https://s4.an…</td><td>&quot;&quot;Nozomi Aoki h…</td><td>[]</td><td>&quot;&quot;Male&quot;&quot;</td><td>1931</td><td>3</td><td>2</td><td>null</td><td>null</td><td>null</td><td>92</td><td>[]</td><td>&quot;&quot;Tokyo, Japan&quot;…</td><td>null</td><td>&quot;&quot;https://anili…</td></tr><tr><td>1000</td><td>35677</td><td>&quot;&quot;Animation Dir…</td><td>106638</td><td>&quot;&quot;Moriyasu&quot;&quot;</td><td>null</td><td>&quot;&quot;Taniguchi&quot;&quot;</td><td>&quot;&quot;Moriyasu Tani…</td><td>&quot;&quot;谷口守泰&quot;&quot;</td><td>[]</td><td>&quot;&quot;Japanese&quot;&quot;</td><td>&quot;&quot;https://s4.an…</td><td>&quot;&quot;[Wiki (jp)](h…</td><td>[&quot;Animator&quot;, &quot;Designer&quot;]</td><td>&quot;&quot;Male&quot;&quot;</td><td>1943</td><td>3</td><td>30</td><td>null</td><td>null</td><td>null</td><td>80</td><td>[1964]</td><td>&quot;&quot;Kobe, Hyogo P…</td><td>null</td><td>&quot;&quot;https://anili…</td></tr><tr><td>1000</td><td>190984</td><td>&quot;&quot;Art Design&quot;&quot;</td><td>170353</td><td>&quot;&quot;Takamura&quot;&quot;</td><td>null</td><td>&quot;&quot;Mukuo&quot;&quot;</td><td>&quot;&quot;Takamura Muku…</td><td>&quot;&quot;椋尾篁&quot;&quot;</td><td>[]</td><td>&quot;&quot;Japanese&quot;&quot;</td><td>&quot;&quot;https://s4.an…</td><td>&quot;&quot;Takamura Muku…</td><td>[&quot;Background Artist&quot;]</td><td>&quot;&quot;Male&quot;&quot;</td><td>1938</td><td>1</td><td>1</td><td>1992</td><td>6</td><td>9</td><td>54</td><td>[1964, 1992]</td><td>&quot;&quot;Sasebo, Nagas…</td><td>null</td><td>&quot;&quot;https://anili…</td></tr><tr><td>1001</td><td>36908</td><td>&quot;&quot;Animation Dir…</td><td>107166</td><td>&quot;&quot;Teiichi&quot;&quot;</td><td>null</td><td>&quot;&quot;Takiguchi&quot;&quot;</td><td>&quot;&quot;Teiichi Takig…</td><td>&quot;&quot;滝口禎一&quot;&quot;</td><td>[]</td><td>&quot;&quot;Japanese&quot;&quot;</td><td>&quot;&quot;https://s4.an…</td><td>&quot;&quot;[Wiki (jp)](h…</td><td>[&quot;Animator&quot;, &quot;Designer&quot;]</td><td>&quot;&quot;Male&quot;&quot;</td><td>1961</td><td>11</td><td>27</td><td>null</td><td>null</td><td>null</td><td>62</td><td>[1986]</td><td>&quot;&quot;Ishikawa Pref…</td><td>null</td><td>&quot;&quot;https://anili…</td></tr><tr><td>1001</td><td>36909</td><td>&quot;&quot;Character Des…</td><td>107166</td><td>&quot;&quot;Teiichi&quot;&quot;</td><td>null</td><td>&quot;&quot;Takiguchi&quot;&quot;</td><td>&quot;&quot;Teiichi Takig…</td><td>&quot;&quot;滝口禎一&quot;&quot;</td><td>[]</td><td>&quot;&quot;Japanese&quot;&quot;</td><td>&quot;&quot;https://s4.an…</td><td>&quot;&quot;[Wiki (jp)](h…</td><td>[&quot;Animator&quot;, &quot;Designer&quot;]</td><td>&quot;&quot;Male&quot;&quot;</td><td>1961</td><td>11</td><td>27</td><td>null</td><td>null</td><td>null</td><td>62</td><td>[1986]</td><td>&quot;&quot;Ishikawa Pref…</td><td>null</td><td>&quot;&quot;https://anili…</td></tr><tr><td>1001</td><td>575817</td><td>&quot;&quot;Original Crea…</td><td>114109</td><td>&quot;&quot;Satoru&quot;&quot;</td><td>null</td><td>&quot;&quot;Ozawa&quot;&quot;</td><td>&quot;&quot;Satoru Ozawa&quot;…</td><td>&quot;&quot;小澤さとる&quot;&quot;</td><td>[&quot;小沢さとる&quot;, &quot;北沢力&quot;, … &quot;おざわさとる&quot;]</td><td>&quot;&quot;Japanese&quot;&quot;</td><td>&quot;&quot;https://s4.an…</td><td>&quot;&quot;[Twitter](htt…</td><td>[&quot;Mangaka&quot;]</td><td>&quot;&quot;Male&quot;&quot;</td><td>1936</td><td>2</td><td>3</td><td>null</td><td>null</td><td>null</td><td>87</td><td>[1957]</td><td>&quot;&quot;Kawaguchi, Sa…</td><td>null</td><td>&quot;&quot;https://anili…</td></tr><tr><td>1001</td><td>575818</td><td>&quot;&quot;Director &quot;&quot;</td><td>106597</td><td>&quot;&quot;Umanosuke&quot;&quot;</td><td>null</td><td>&quot;&quot;Iida&quot;&quot;</td><td>&quot;&quot;Umanosuke Iid…</td><td>&quot;&quot;飯田馬之介&quot;&quot;</td><td>[&quot;飯田勉&quot;, &quot;Tsutomu Iida (飯田つとむ)&quot;]</td><td>&quot;&quot;Japanese&quot;&quot;</td><td>&quot;&quot;https://s4.an…</td><td>null</td><td>[&quot;Director&quot;, &quot;Scriptwriter&quot;, &quot;Storyboarder &quot;]</td><td>&quot;&quot;Male&quot;&quot;</td><td>1961</td><td>4</td><td>30</td><td>2010</td><td>11</td><td>26</td><td>49</td><td>[]</td><td>null</td><td>null</td><td>&quot;&quot;https://anili…</td></tr></tbody></table></div>"
      ],
      "text/plain": [
       "shape: (10, 26)\n",
       "┌──────────┬────────────┬───────────┬──────────┬───┬───────────┬───────────┬───────────┬───────────┐\n",
       "│ anime_id ┆ staff_edge ┆ role      ┆ staff_id ┆ … ┆ yearsActi ┆ homeTown  ┆ bloodType ┆ siteUrl   │\n",
       "│ ---      ┆ _id        ┆ ---       ┆ ---      ┆   ┆ ve        ┆ ---       ┆ ---       ┆ ---       │\n",
       "│ i32      ┆ ---        ┆ str       ┆ i32      ┆   ┆ ---       ┆ str       ┆ str       ┆ str       │\n",
       "│          ┆ i32        ┆           ┆          ┆   ┆ list[i32] ┆           ┆           ┆           │\n",
       "╞══════════╪════════════╪═══════════╪══════════╪═══╪═══════════╪═══════════╪═══════════╪═══════════╡\n",
       "│ 1000     ┆ 5629       ┆ \"Original ┆ 97597    ┆ … ┆ [1953,    ┆ \"Kurume,  ┆ \"B\"       ┆ \"https:// │\n",
       "│          ┆            ┆ Creator\"  ┆          ┆   ┆ 2023]     ┆ Fukuoka,  ┆           ┆ anilist.c │\n",
       "│          ┆            ┆           ┆          ┆   ┆           ┆ Japan\"    ┆           ┆ o/staff/9 │\n",
       "│          ┆            ┆           ┆          ┆   ┆           ┆           ┆           ┆ 7597\"     │\n",
       "│ 1000     ┆ 20222      ┆ \"Director ┆ 102305   ┆ … ┆ [1958,    ┆ \"Tokyo,   ┆ null      ┆ \"https:// │\n",
       "│          ┆            ┆ \"         ┆          ┆   ┆ 2012]     ┆ Japan\"    ┆           ┆ anilist.c │\n",
       "│          ┆            ┆           ┆          ┆   ┆           ┆           ┆           ┆ o/staff/1 │\n",
       "│          ┆            ┆           ┆          ┆   ┆           ┆           ┆           ┆ 02305…    │\n",
       "│ 1000     ┆ 31387      ┆ \"Music\"   ┆ 105510   ┆ … ┆ []        ┆ \"Hiroshim ┆ null      ┆ \"https:// │\n",
       "│          ┆            ┆           ┆          ┆   ┆           ┆ a, Japan\" ┆           ┆ anilist.c │\n",
       "│          ┆            ┆           ┆          ┆   ┆           ┆           ┆           ┆ o/staff/1 │\n",
       "│          ┆            ┆           ┆          ┆   ┆           ┆           ┆           ┆ 05510…    │\n",
       "│ 1000     ┆ 34921      ┆ \"Music\"   ┆ 106498   ┆ … ┆ []        ┆ \"Tokyo,   ┆ null      ┆ \"https:// │\n",
       "│          ┆            ┆           ┆          ┆   ┆           ┆ Japan\"    ┆           ┆ anilist.c │\n",
       "│          ┆            ┆           ┆          ┆   ┆           ┆           ┆           ┆ o/staff/1 │\n",
       "│          ┆            ┆           ┆          ┆   ┆           ┆           ┆           ┆ 06498…    │\n",
       "│ …        ┆ …          ┆ …         ┆ …        ┆ … ┆ …         ┆ …         ┆ …         ┆ …         │\n",
       "│ 1001     ┆ 36908      ┆ \"Animatio ┆ 107166   ┆ … ┆ [1986]    ┆ \"Ishikawa ┆ null      ┆ \"https:// │\n",
       "│          ┆            ┆ n         ┆          ┆   ┆           ┆ Prefectur ┆           ┆ anilist.c │\n",
       "│          ┆            ┆ Director\" ┆          ┆   ┆           ┆ e, Japan\" ┆           ┆ o/staff/1 │\n",
       "│          ┆            ┆           ┆          ┆   ┆           ┆           ┆           ┆ 07166…    │\n",
       "│ 1001     ┆ 36909      ┆ \"Characte ┆ 107166   ┆ … ┆ [1986]    ┆ \"Ishikawa ┆ null      ┆ \"https:// │\n",
       "│          ┆            ┆ r Design\" ┆          ┆   ┆           ┆ Prefectur ┆           ┆ anilist.c │\n",
       "│          ┆            ┆           ┆          ┆   ┆           ┆ e, Japan\" ┆           ┆ o/staff/1 │\n",
       "│          ┆            ┆           ┆          ┆   ┆           ┆           ┆           ┆ 07166…    │\n",
       "│ 1001     ┆ 575817     ┆ \"Original ┆ 114109   ┆ … ┆ [1957]    ┆ \"Kawaguch ┆ null      ┆ \"https:// │\n",
       "│          ┆            ┆ Creator\"  ┆          ┆   ┆           ┆ i,        ┆           ┆ anilist.c │\n",
       "│          ┆            ┆           ┆          ┆   ┆           ┆ Saitama   ┆           ┆ o/staff/1 │\n",
       "│          ┆            ┆           ┆          ┆   ┆           ┆ Prefectur ┆           ┆ 14109…    │\n",
       "│          ┆            ┆           ┆          ┆   ┆           ┆ e, …      ┆           ┆           │\n",
       "│ 1001     ┆ 575818     ┆ \"Director ┆ 106597   ┆ … ┆ []        ┆ null      ┆ null      ┆ \"https:// │\n",
       "│          ┆            ┆ \"         ┆          ┆   ┆           ┆           ┆           ┆ anilist.c │\n",
       "│          ┆            ┆           ┆          ┆   ┆           ┆           ┆           ┆ o/staff/1 │\n",
       "│          ┆            ┆           ┆          ┆   ┆           ┆           ┆           ┆ 06597…    │\n",
       "└──────────┴────────────┴───────────┴──────────┴───┴───────────┴───────────┴───────────┴───────────┘"
      ]
     },
     "execution_count": 4,
     "metadata": {},
     "output_type": "execute_result"
    }
   ],
   "source": [
    "tb_staff.limit(10).pl()"
   ]
  },
  {
   "cell_type": "code",
   "execution_count": 9,
   "metadata": {},
   "outputs": [
    {
     "data": {
      "text/plain": [
       "┌──────────────────────────────────────────────────────────────────┐\n",
       "│                               role                               │\n",
       "│                             varchar                              │\n",
       "├──────────────────────────────────────────────────────────────────┤\n",
       "│ \"Insert Song Composition (\\\"GOD DIVA\\\"; eps 1, 3, 6, 9, 13, 24)\" │\n",
       "│ \"Planning (VAP)\"                                                 │\n",
       "│ \"Insert Song Lyrics (\\\"GOD DIVA\\\"; eps 1, 3, 6, 9, 13, 24)\"      │\n",
       "│ \"Producer (VAP)\"                                                 │\n",
       "│ \"Insert Song Performance (\\\"GOD DIVA\\\"; eps 1, 3, 6, 9, 13, 24)\" │\n",
       "│ \"Insert Song Arrangement (\\\"GOD DIVA\\\"; eps 1, 3, 6, 9, 13, 24)\" │\n",
       "└──────────────────────────────────────────────────────────────────┘"
      ]
     },
     "execution_count": 9,
     "metadata": {},
     "output_type": "execute_result"
    }
   ],
   "source": [
    "tb_staff.role.distinct().filter(\"role like ('%VA%')\")"
   ]
  },
  {
   "cell_type": "code",
   "execution_count": 71,
   "metadata": {},
   "outputs": [],
   "source": [
    "tb_dim = duckdb.sql(\"\"\"\n",
    "WITH source_va AS (\n",
    "    SELECT \n",
    "        id AS people_id\n",
    "        , name_first\n",
    "        , name_last\n",
    "    FROM tb_va  \n",
    "), source_staff AS (\n",
    "    SELECT\n",
    "        staff_id AS people_id\n",
    "        , name_first\n",
    "        , name_middle\n",
    "        , name_last\n",
    "        , name_full\n",
    "        , name_native\n",
    "        , name_alternative\n",
    "        , language\n",
    "        , image_medium\n",
    "        , description\n",
    "        , primaryOccupations\n",
    "        , gender\n",
    "        , make_date(dateOfBirth_year, dateOfBirth_month, dateOfBirth_day) AS dateOfBirth\n",
    "        --, make_date(dateOfDeath_year, dateOfDeath_month, dateOfDeath_day) AS dateOfDeath  -- Discard due to data quality\n",
    "        , age\n",
    "        , yearsActive\n",
    "        , homeTown\n",
    "        , bloodType\n",
    "        , siteUrl\n",
    "        FROM tb_staff\n",
    "), source_union AS (\n",
    "    SELECT * FROM source_va UNION ALL BY NAME SELECT * FROM source_staff\n",
    "), dedupe AS (\n",
    "    SELECT\n",
    "        people_id\n",
    "        , ANY_VALUE(name_first) AS name_first\n",
    "        , ANY_VALUE(name_middle) AS name_middle\n",
    "        , ANY_VALUE(name_last) AS name_last\n",
    "        , ANY_VALUE(name_full) AS name_full\n",
    "        , ANY_VALUE(name_native) AS name_native\n",
    "        , ANY_VALUE(name_alternative) AS name_alternative\n",
    "        , ANY_VALUE(language) AS language\n",
    "        , ANY_VALUE(image_medium) AS image_medium\n",
    "        , ANY_VALUE(description) AS description\n",
    "        , ANY_VALUE(primaryOccupations) AS primaryOccupations\n",
    "        , ANY_VALUE(gender) AS gender\n",
    "        , ANY_VALUE(dateOfBirth) AS dateOfBirth\n",
    "        , ANY_VALUE(age) AS age\n",
    "        , ANY_VALUE(yearsActive) AS yearsActive\n",
    "        , ANY_VALUE(homeTown) AS homeTown\n",
    "        , ANY_VALUE(bloodType) AS bloodType\n",
    "        , ANY_VALUE(siteUrl) AS siteUrl\n",
    "    FROM source_union\n",
    "    GROUP BY (people_id)\n",
    ")\n",
    "    \n",
    "    SELECT * FROM dedupe\n",
    "\n",
    "\"\"\")\n",
    "# SELECT DISTINCT v.id, s.staff_id, v.name_first, s.name_first\n",
    "# FROM tb_va v FULL JOIN tb_staff s ON v.id=s.staff_id"
   ]
  },
  {
   "cell_type": "code",
   "execution_count": 76,
   "metadata": {},
   "outputs": [
    {
     "data": {
      "text/plain": [
       "(14345, 18)"
      ]
     },
     "execution_count": 76,
     "metadata": {},
     "output_type": "execute_result"
    }
   ],
   "source": [
    "tb_dim.shape"
   ]
  },
  {
   "cell_type": "code",
   "execution_count": 75,
   "metadata": {},
   "outputs": [],
   "source": [
    "tb_dim.to_parquet(str(target_path))"
   ]
  }
 ],
 "metadata": {
  "kernelspec": {
   "display_name": ".venv",
   "language": "python",
   "name": "python3"
  },
  "language_info": {
   "codemirror_mode": {
    "name": "ipython",
    "version": 3
   },
   "file_extension": ".py",
   "mimetype": "text/x-python",
   "name": "python",
   "nbconvert_exporter": "python",
   "pygments_lexer": "ipython3",
   "version": "3.10.3"
  }
 },
 "nbformat": 4,
 "nbformat_minor": 2
}
