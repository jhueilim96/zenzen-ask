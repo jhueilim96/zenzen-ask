{
 "cells": [
  {
   "cell_type": "code",
   "execution_count": 1,
   "metadata": {},
   "outputs": [
    {
     "data": {
      "text/plain": [
       "True"
      ]
     },
     "execution_count": 1,
     "metadata": {},
     "output_type": "execute_result"
    }
   ],
   "source": [
    "from pathlib import Path\n",
    "from pydantic import BaseModel\n",
    "from typing import Any\n",
    "from neo4j import GraphDatabase\n",
    "from dotenv import load_dotenv\n",
    "import json\n",
    "import os\n",
    "import duckdb\n",
    "load_dotenv()"
   ]
  },
  {
   "cell_type": "code",
   "execution_count": 2,
   "metadata": {},
   "outputs": [],
   "source": [
    "class Neo4jGraph:\n",
    "\n",
    "    def __init__(self, neo4j_uri:str, neo4j_username:str, neo4j_password:str, db:str)->None:\n",
    "        self.uri  = neo4j_uri\n",
    "        self.auth = (neo4j_username, neo4j_password)\n",
    "        self.db = db\n",
    "        self.driver = GraphDatabase.driver(self.uri, auth=self.auth)\n",
    "\n",
    "    def query(self, query:str, params:dict):\n",
    "        with self.driver.session(database=self.db) as session:\n",
    "            result = session.run(query, params)\n",
    "            return [r for r in result]\n",
    "        \n",
    "class Node(BaseModel):\n",
    "    id:int\n",
    "    label: list[str]\n",
    "    properties:dict[str, Any]\n",
    "\n",
    "class Relation(BaseModel):\n",
    "    id:str\n",
    "    label:str\n",
    "    properties:dict[str, Any]\n"
   ]
  },
  {
   "cell_type": "code",
   "execution_count": 3,
   "metadata": {},
   "outputs": [],
   "source": [
    "def merge_node(graph:Neo4jGraph, nodes:list[Node]):\n",
    "    res = graph.query(\n",
    "        \"UNWIND $data as row \"\n",
    "        \"CALL apoc.merge.node(\"\n",
    "        \"row.label, \"\n",
    "        \"{id:row.id}, \"\n",
    "        \"row.properties, \"\n",
    "        \"row.properties ) \"\n",
    "        \"YIELD node \"\n",
    "        \"RETURN node\"\n",
    "        ,\n",
    "        {\n",
    "            \"data\":[\n",
    "                node.__dict__ for node in nodes\n",
    "            ]\n",
    "        }\n",
    "    )\n",
    "    return res"
   ]
  },
  {
   "cell_type": "code",
   "execution_count": 4,
   "metadata": {},
   "outputs": [],
   "source": [
    "base_path = Path().cwd().parent\n",
    "source_path = base_path / Path('silver/anilist/character/character-2024-1-15.parquet')\n",
    "\n",
    "neo4j_uri = os.environ['neo4j_uri']\n",
    "neo4j_username = os.environ['neo4j_username']\n",
    "neo4j_password = os.environ['neo4j_password']\n",
    "neo4j_dbname = os.environ['neo4j_dbname']"
   ]
  },
  {
   "cell_type": "code",
   "execution_count": 5,
   "metadata": {},
   "outputs": [],
   "source": [
    "graph = Neo4jGraph(\n",
    "    neo4j_uri,\n",
    "    neo4j_username,\n",
    "    neo4j_password,\n",
    "    neo4j_dbname,\n",
    ")"
   ]
  },
  {
   "cell_type": "code",
   "execution_count": 7,
   "metadata": {},
   "outputs": [
    {
     "data": {
      "text/plain": [
       "(12142, 19)"
      ]
     },
     "execution_count": 7,
     "metadata": {},
     "output_type": "execute_result"
    }
   ],
   "source": [
    "tb = duckdb.read_parquet(str(source_path))\n",
    "tb.shape"
   ]
  },
  {
   "cell_type": "code",
   "execution_count": 11,
   "metadata": {},
   "outputs": [
    {
     "data": {
      "text/html": [
       "<div><style>\n",
       ".dataframe > thead > tr,\n",
       ".dataframe > tbody > tr {\n",
       "  text-align: right;\n",
       "  white-space: pre-wrap;\n",
       "}\n",
       "</style>\n",
       "<small>shape: (20, 19)</small><table border=\"1\" class=\"dataframe\"><thead><tr><th>anime_id</th><th>role</th><th>role_name</th><th>character_id</th><th>name_first</th><th>name_middle</th><th>name_last</th><th>name_full</th><th>name_native</th><th>name_alternative</th><th>image</th><th>description</th><th>gender</th><th>dateOfBirth_year</th><th>dateOfBirth_month</th><th>dateOfBirth_day</th><th>age</th><th>bloodType</th><th>siteUrl</th></tr><tr><td>i32</td><td>str</td><td>str</td><td>i32</td><td>str</td><td>str</td><td>str</td><td>str</td><td>str</td><td>str</td><td>str</td><td>str</td><td>str</td><td>i32</td><td>i32</td><td>i32</td><td>str</td><td>str</td><td>str</td></tr></thead><tbody><tr><td>834</td><td>&quot;&quot;MAIN&quot;&quot;</td><td>null</td><td>5</td><td>&quot;&quot;Ichigo&quot;&quot;</td><td>null</td><td>&quot;&quot;Kurosaki&quot;&quot;</td><td>&quot;&quot;Ichigo Kurosa…</td><td>&quot;&quot;黒崎一護&quot;&quot;</td><td>&quot;[&quot;Ichi-nii&quot;,&quot;S…</td><td>&quot;&quot;https://s4.an…</td><td>&quot;&quot;__Race:__ Hum…</td><td>&quot;&quot;Male&quot;&quot;</td><td>null</td><td>7</td><td>15</td><td>&quot;&quot;15-29&quot;&quot;</td><td>&quot;&quot;A&quot;&quot;</td><td>&quot;&quot;https://anili…</td></tr><tr><td>834</td><td>&quot;&quot;MAIN&quot;&quot;</td><td>null</td><td>5</td><td>&quot;&quot;Ichigo&quot;&quot;</td><td>null</td><td>&quot;&quot;Kurosaki&quot;&quot;</td><td>&quot;&quot;Ichigo Kurosa…</td><td>&quot;&quot;黒崎一護&quot;&quot;</td><td>&quot;[&quot;Ichi-nii&quot;,&quot;S…</td><td>&quot;&quot;https://s4.an…</td><td>&quot;&quot;__Race:__ Hum…</td><td>&quot;&quot;Male&quot;&quot;</td><td>null</td><td>7</td><td>15</td><td>&quot;&quot;15-29&quot;&quot;</td><td>&quot;&quot;A&quot;&quot;</td><td>&quot;&quot;https://anili…</td></tr><tr><td>834</td><td>&quot;&quot;MAIN&quot;&quot;</td><td>null</td><td>6</td><td>&quot;&quot;Rukia&quot;&quot;</td><td>null</td><td>&quot;&quot;Kuchiki&quot;&quot;</td><td>&quot;&quot;Rukia Kuchiki…</td><td>&quot;&quot;朽木ルキア&quot;&quot;</td><td>&quot;[]&quot;</td><td>&quot;&quot;https://s4.an…</td><td>&quot;&quot;__Race:__ Shi…</td><td>&quot;&quot;Female&quot;&quot;</td><td>null</td><td>1</td><td>14</td><td>null</td><td>null</td><td>&quot;&quot;https://anili…</td></tr><tr><td>834</td><td>&quot;&quot;MAIN&quot;&quot;</td><td>null</td><td>6</td><td>&quot;&quot;Rukia&quot;&quot;</td><td>null</td><td>&quot;&quot;Kuchiki&quot;&quot;</td><td>&quot;&quot;Rukia Kuchiki…</td><td>&quot;&quot;朽木ルキア&quot;&quot;</td><td>&quot;[]&quot;</td><td>&quot;&quot;https://s4.an…</td><td>&quot;&quot;__Race:__ Shi…</td><td>&quot;&quot;Female&quot;&quot;</td><td>null</td><td>1</td><td>14</td><td>null</td><td>null</td><td>&quot;&quot;https://anili…</td></tr><tr><td>430</td><td>&quot;&quot;MAIN&quot;&quot;</td><td>null</td><td>11</td><td>&quot;&quot;Edward&quot;&quot;</td><td>null</td><td>&quot;&quot;Elric&quot;&quot;</td><td>&quot;&quot;Edward Elric&quot;…</td><td>&quot;&quot;エドワード・エルリック&quot;&quot;</td><td>&quot;[&quot;Ed&quot;,&quot;Fullmet…</td><td>&quot;&quot;https://s4.an…</td><td>&quot;&quot;__Birthplace:…</td><td>&quot;&quot;Male&quot;&quot;</td><td>1899</td><td>null</td><td>null</td><td>&quot;&quot;15-16 (series…</td><td>null</td><td>&quot;&quot;https://anili…</td></tr><tr><td>430</td><td>&quot;&quot;MAIN&quot;&quot;</td><td>null</td><td>11</td><td>&quot;&quot;Edward&quot;&quot;</td><td>null</td><td>&quot;&quot;Elric&quot;&quot;</td><td>&quot;&quot;Edward Elric&quot;…</td><td>&quot;&quot;エドワード・エルリック&quot;&quot;</td><td>&quot;[&quot;Ed&quot;,&quot;Fullmet…</td><td>&quot;&quot;https://s4.an…</td><td>&quot;&quot;__Birthplace:…</td><td>&quot;&quot;Male&quot;&quot;</td><td>1899</td><td>null</td><td>null</td><td>&quot;&quot;15-16 (series…</td><td>null</td><td>&quot;&quot;https://anili…</td></tr><tr><td>664</td><td>&quot;&quot;MAIN&quot;&quot;</td><td>null</td><td>11</td><td>&quot;&quot;Edward&quot;&quot;</td><td>null</td><td>&quot;&quot;Elric&quot;&quot;</td><td>&quot;&quot;Edward Elric&quot;…</td><td>&quot;&quot;エドワード・エルリック&quot;&quot;</td><td>&quot;[&quot;Ed&quot;,&quot;Fullmet…</td><td>&quot;&quot;https://s4.an…</td><td>&quot;&quot;__Birthplace:…</td><td>&quot;&quot;Male&quot;&quot;</td><td>1899</td><td>null</td><td>null</td><td>&quot;&quot;15-16 (series…</td><td>null</td><td>&quot;&quot;https://anili…</td></tr><tr><td>430</td><td>&quot;&quot;MAIN&quot;&quot;</td><td>null</td><td>12</td><td>&quot;&quot;Alphonse&quot;&quot;</td><td>null</td><td>&quot;&quot;Elric&quot;&quot;</td><td>&quot;&quot;Alphonse Elri…</td><td>&quot;&quot;アルフォンス・エルリック&quot;…</td><td>&quot;[&quot;Al&quot;,&quot;Armored…</td><td>&quot;&quot;https://s4.an…</td><td>&quot;&quot; __Birthplace…</td><td>&quot;&quot;Male&quot;&quot;</td><td>1900</td><td>null</td><td>null</td><td>&quot;&quot;14-15&quot;&quot;</td><td>null</td><td>&quot;&quot;https://anili…</td></tr><tr><td>430</td><td>&quot;&quot;MAIN&quot;&quot;</td><td>null</td><td>12</td><td>&quot;&quot;Alphonse&quot;&quot;</td><td>null</td><td>&quot;&quot;Elric&quot;&quot;</td><td>&quot;&quot;Alphonse Elri…</td><td>&quot;&quot;アルフォンス・エルリック&quot;…</td><td>&quot;[&quot;Al&quot;,&quot;Armored…</td><td>&quot;&quot;https://s4.an…</td><td>&quot;&quot; __Birthplace…</td><td>&quot;&quot;Male&quot;&quot;</td><td>1900</td><td>null</td><td>null</td><td>&quot;&quot;14-15&quot;&quot;</td><td>null</td><td>&quot;&quot;https://anili…</td></tr><tr><td>664</td><td>&quot;&quot;MAIN&quot;&quot;</td><td>null</td><td>12</td><td>&quot;&quot;Alphonse&quot;&quot;</td><td>null</td><td>&quot;&quot;Elric&quot;&quot;</td><td>&quot;&quot;Alphonse Elri…</td><td>&quot;&quot;アルフォンス・エルリック&quot;…</td><td>&quot;[&quot;Al&quot;,&quot;Armored…</td><td>&quot;&quot;https://s4.an…</td><td>&quot;&quot; __Birthplace…</td><td>&quot;&quot;Male&quot;&quot;</td><td>1900</td><td>null</td><td>null</td><td>&quot;&quot;14-15&quot;&quot;</td><td>null</td><td>&quot;&quot;https://anili…</td></tr><tr><td>1074</td><td>&quot;&quot;MAIN&quot;&quot;</td><td>null</td><td>13</td><td>&quot;&quot;Sasuke&quot;&quot;</td><td>null</td><td>&quot;&quot;Uchiha&quot;&quot;</td><td>&quot;&quot;Sasuke Uchiha…</td><td>&quot;&quot;うちはサスケ&quot;&quot;</td><td>&quot;[&quot;The Uchiha S…</td><td>&quot;&quot;https://s4.an…</td><td>&quot;&quot;__Height__: 1…</td><td>&quot;&quot;Male&quot;&quot;</td><td>null</td><td>7</td><td>23</td><td>&quot;&quot;12-17(Naruto)…</td><td>&quot;&quot;AB&quot;&quot;</td><td>&quot;&quot;https://anili…</td></tr><tr><td>1074</td><td>&quot;&quot;MAIN&quot;&quot;</td><td>null</td><td>13</td><td>&quot;&quot;Sasuke&quot;&quot;</td><td>null</td><td>&quot;&quot;Uchiha&quot;&quot;</td><td>&quot;&quot;Sasuke Uchiha…</td><td>&quot;&quot;うちはサスケ&quot;&quot;</td><td>&quot;[&quot;The Uchiha S…</td><td>&quot;&quot;https://s4.an…</td><td>&quot;&quot;__Height__: 1…</td><td>&quot;&quot;Male&quot;&quot;</td><td>null</td><td>7</td><td>23</td><td>&quot;&quot;12-17(Naruto)…</td><td>&quot;&quot;AB&quot;&quot;</td><td>&quot;&quot;https://anili…</td></tr><tr><td>442</td><td>&quot;&quot;MAIN&quot;&quot;</td><td>null</td><td>13</td><td>&quot;&quot;Sasuke&quot;&quot;</td><td>null</td><td>&quot;&quot;Uchiha&quot;&quot;</td><td>&quot;&quot;Sasuke Uchiha…</td><td>&quot;&quot;うちはサスケ&quot;&quot;</td><td>&quot;[&quot;The Uchiha S…</td><td>&quot;&quot;https://s4.an…</td><td>&quot;&quot;__Height__: 1…</td><td>&quot;&quot;Male&quot;&quot;</td><td>null</td><td>7</td><td>23</td><td>&quot;&quot;12-17(Naruto)…</td><td>&quot;&quot;AB&quot;&quot;</td><td>&quot;&quot;https://anili…</td></tr><tr><td>594</td><td>&quot;&quot;MAIN&quot;&quot;</td><td>null</td><td>13</td><td>&quot;&quot;Sasuke&quot;&quot;</td><td>null</td><td>&quot;&quot;Uchiha&quot;&quot;</td><td>&quot;&quot;Sasuke Uchiha…</td><td>&quot;&quot;うちはサスケ&quot;&quot;</td><td>&quot;[&quot;The Uchiha S…</td><td>&quot;&quot;https://s4.an…</td><td>&quot;&quot;__Height__: 1…</td><td>&quot;&quot;Male&quot;&quot;</td><td>null</td><td>7</td><td>23</td><td>&quot;&quot;12-17(Naruto)…</td><td>&quot;&quot;AB&quot;&quot;</td><td>&quot;&quot;https://anili…</td></tr><tr><td>761</td><td>&quot;&quot;MAIN&quot;&quot;</td><td>null</td><td>13</td><td>&quot;&quot;Sasuke&quot;&quot;</td><td>null</td><td>&quot;&quot;Uchiha&quot;&quot;</td><td>&quot;&quot;Sasuke Uchiha…</td><td>&quot;&quot;うちはサスケ&quot;&quot;</td><td>&quot;[&quot;The Uchiha S…</td><td>&quot;&quot;https://s4.an…</td><td>&quot;&quot;__Height__: 1…</td><td>&quot;&quot;Male&quot;&quot;</td><td>null</td><td>7</td><td>23</td><td>&quot;&quot;12-17(Naruto)…</td><td>&quot;&quot;AB&quot;&quot;</td><td>&quot;&quot;https://anili…</td></tr><tr><td>1074</td><td>&quot;&quot;MAIN&quot;&quot;</td><td>null</td><td>17</td><td>&quot;&quot;Naruto&quot;&quot;</td><td>null</td><td>&quot;&quot;Uzumaki&quot;&quot;</td><td>&quot;&quot;Naruto Uzumak…</td><td>&quot;&quot;うずまきナルト&quot;&quot;</td><td>&quot;[&quot;Nine-Tails J…</td><td>&quot;&quot;https://s4.an…</td><td>&quot;&quot;__Height__: 1…</td><td>&quot;&quot;Male&quot;&quot;</td><td>null</td><td>10</td><td>10</td><td>&quot;&quot;12-17 (Naruto…</td><td>&quot;&quot;B&quot;&quot;</td><td>&quot;&quot;https://anili…</td></tr><tr><td>1074</td><td>&quot;&quot;MAIN&quot;&quot;</td><td>null</td><td>17</td><td>&quot;&quot;Naruto&quot;&quot;</td><td>null</td><td>&quot;&quot;Uzumaki&quot;&quot;</td><td>&quot;&quot;Naruto Uzumak…</td><td>&quot;&quot;うずまきナルト&quot;&quot;</td><td>&quot;[&quot;Nine-Tails J…</td><td>&quot;&quot;https://s4.an…</td><td>&quot;&quot;__Height__: 1…</td><td>&quot;&quot;Male&quot;&quot;</td><td>null</td><td>10</td><td>10</td><td>&quot;&quot;12-17 (Naruto…</td><td>&quot;&quot;B&quot;&quot;</td><td>&quot;&quot;https://anili…</td></tr><tr><td>442</td><td>&quot;&quot;MAIN&quot;&quot;</td><td>null</td><td>17</td><td>&quot;&quot;Naruto&quot;&quot;</td><td>null</td><td>&quot;&quot;Uzumaki&quot;&quot;</td><td>&quot;&quot;Naruto Uzumak…</td><td>&quot;&quot;うずまきナルト&quot;&quot;</td><td>&quot;[&quot;Nine-Tails J…</td><td>&quot;&quot;https://s4.an…</td><td>&quot;&quot;__Height__: 1…</td><td>&quot;&quot;Male&quot;&quot;</td><td>null</td><td>10</td><td>10</td><td>&quot;&quot;12-17 (Naruto…</td><td>&quot;&quot;B&quot;&quot;</td><td>&quot;&quot;https://anili…</td></tr><tr><td>594</td><td>&quot;&quot;MAIN&quot;&quot;</td><td>null</td><td>17</td><td>&quot;&quot;Naruto&quot;&quot;</td><td>null</td><td>&quot;&quot;Uzumaki&quot;&quot;</td><td>&quot;&quot;Naruto Uzumak…</td><td>&quot;&quot;うずまきナルト&quot;&quot;</td><td>&quot;[&quot;Nine-Tails J…</td><td>&quot;&quot;https://s4.an…</td><td>&quot;&quot;__Height__: 1…</td><td>&quot;&quot;Male&quot;&quot;</td><td>null</td><td>10</td><td>10</td><td>&quot;&quot;12-17 (Naruto…</td><td>&quot;&quot;B&quot;&quot;</td><td>&quot;&quot;https://anili…</td></tr><tr><td>761</td><td>&quot;&quot;MAIN&quot;&quot;</td><td>null</td><td>17</td><td>&quot;&quot;Naruto&quot;&quot;</td><td>null</td><td>&quot;&quot;Uzumaki&quot;&quot;</td><td>&quot;&quot;Naruto Uzumak…</td><td>&quot;&quot;うずまきナルト&quot;&quot;</td><td>&quot;[&quot;Nine-Tails J…</td><td>&quot;&quot;https://s4.an…</td><td>&quot;&quot;__Height__: 1…</td><td>&quot;&quot;Male&quot;&quot;</td><td>null</td><td>10</td><td>10</td><td>&quot;&quot;12-17 (Naruto…</td><td>&quot;&quot;B&quot;&quot;</td><td>&quot;&quot;https://anili…</td></tr></tbody></table></div>"
      ],
      "text/plain": [
       "shape: (20, 19)\n",
       "┌──────────┬────────┬───────────┬────────────┬───┬────────────┬────────────┬───────────┬───────────┐\n",
       "│ anime_id ┆ role   ┆ role_name ┆ character_ ┆ … ┆ dateOfBirt ┆ age        ┆ bloodType ┆ siteUrl   │\n",
       "│ ---      ┆ ---    ┆ ---       ┆ id         ┆   ┆ h_day      ┆ ---        ┆ ---       ┆ ---       │\n",
       "│ i32      ┆ str    ┆ str       ┆ ---        ┆   ┆ ---        ┆ str        ┆ str       ┆ str       │\n",
       "│          ┆        ┆           ┆ i32        ┆   ┆ i32        ┆            ┆           ┆           │\n",
       "╞══════════╪════════╪═══════════╪════════════╪═══╪════════════╪════════════╪═══════════╪═══════════╡\n",
       "│ 834      ┆ \"MAIN\" ┆ null      ┆ 5          ┆ … ┆ 15         ┆ \"15-29\"    ┆ \"A\"       ┆ \"https:// │\n",
       "│          ┆        ┆           ┆            ┆   ┆            ┆            ┆           ┆ anilist.c │\n",
       "│          ┆        ┆           ┆            ┆   ┆            ┆            ┆           ┆ o/charact │\n",
       "│          ┆        ┆           ┆            ┆   ┆            ┆            ┆           ┆ er/5\"     │\n",
       "│ 834      ┆ \"MAIN\" ┆ null      ┆ 5          ┆ … ┆ 15         ┆ \"15-29\"    ┆ \"A\"       ┆ \"https:// │\n",
       "│          ┆        ┆           ┆            ┆   ┆            ┆            ┆           ┆ anilist.c │\n",
       "│          ┆        ┆           ┆            ┆   ┆            ┆            ┆           ┆ o/charact │\n",
       "│          ┆        ┆           ┆            ┆   ┆            ┆            ┆           ┆ er/5\"     │\n",
       "│ 834      ┆ \"MAIN\" ┆ null      ┆ 6          ┆ … ┆ 14         ┆ null       ┆ null      ┆ \"https:// │\n",
       "│          ┆        ┆           ┆            ┆   ┆            ┆            ┆           ┆ anilist.c │\n",
       "│          ┆        ┆           ┆            ┆   ┆            ┆            ┆           ┆ o/charact │\n",
       "│          ┆        ┆           ┆            ┆   ┆            ┆            ┆           ┆ er/6\"     │\n",
       "│ 834      ┆ \"MAIN\" ┆ null      ┆ 6          ┆ … ┆ 14         ┆ null       ┆ null      ┆ \"https:// │\n",
       "│          ┆        ┆           ┆            ┆   ┆            ┆            ┆           ┆ anilist.c │\n",
       "│          ┆        ┆           ┆            ┆   ┆            ┆            ┆           ┆ o/charact │\n",
       "│          ┆        ┆           ┆            ┆   ┆            ┆            ┆           ┆ er/6\"     │\n",
       "│ …        ┆ …      ┆ …         ┆ …          ┆ … ┆ …          ┆ …          ┆ …         ┆ …         │\n",
       "│ 1074     ┆ \"MAIN\" ┆ null      ┆ 17         ┆ … ┆ 10         ┆ \"12-17     ┆ \"B\"       ┆ \"https:// │\n",
       "│          ┆        ┆           ┆            ┆   ┆            ┆ (Naruto),  ┆           ┆ anilist.c │\n",
       "│          ┆        ┆           ┆            ┆   ┆            ┆ 27-        ┆           ┆ o/charact │\n",
       "│          ┆        ┆           ┆            ┆   ┆            ┆ (Boruto)\"  ┆           ┆ er/17…    │\n",
       "│ 442      ┆ \"MAIN\" ┆ null      ┆ 17         ┆ … ┆ 10         ┆ \"12-17     ┆ \"B\"       ┆ \"https:// │\n",
       "│          ┆        ┆           ┆            ┆   ┆            ┆ (Naruto),  ┆           ┆ anilist.c │\n",
       "│          ┆        ┆           ┆            ┆   ┆            ┆ 27-        ┆           ┆ o/charact │\n",
       "│          ┆        ┆           ┆            ┆   ┆            ┆ (Boruto)\"  ┆           ┆ er/17…    │\n",
       "│ 594      ┆ \"MAIN\" ┆ null      ┆ 17         ┆ … ┆ 10         ┆ \"12-17     ┆ \"B\"       ┆ \"https:// │\n",
       "│          ┆        ┆           ┆            ┆   ┆            ┆ (Naruto),  ┆           ┆ anilist.c │\n",
       "│          ┆        ┆           ┆            ┆   ┆            ┆ 27-        ┆           ┆ o/charact │\n",
       "│          ┆        ┆           ┆            ┆   ┆            ┆ (Boruto)\"  ┆           ┆ er/17…    │\n",
       "│ 761      ┆ \"MAIN\" ┆ null      ┆ 17         ┆ … ┆ 10         ┆ \"12-17     ┆ \"B\"       ┆ \"https:// │\n",
       "│          ┆        ┆           ┆            ┆   ┆            ┆ (Naruto),  ┆           ┆ anilist.c │\n",
       "│          ┆        ┆           ┆            ┆   ┆            ┆ 27-        ┆           ┆ o/charact │\n",
       "│          ┆        ┆           ┆            ┆   ┆            ┆ (Boruto)\"  ┆           ┆ er/17…    │\n",
       "└──────────┴────────┴───────────┴────────────┴───┴────────────┴────────────┴───────────┴───────────┘"
      ]
     },
     "execution_count": 11,
     "metadata": {},
     "output_type": "execute_result"
    }
   ],
   "source": [
    "tb.order(\"character_id\").limit(20).pl()"
   ]
  },
  {
   "cell_type": "code",
   "execution_count": null,
   "metadata": {},
   "outputs": [],
   "source": []
  },
  {
   "cell_type": "code",
   "execution_count": 34,
   "metadata": {},
   "outputs": [],
   "source": [
    "doc_list = tb_anime.fetchmany(size=1000)\n",
    "columns = tb_anime.columns"
   ]
  },
  {
   "cell_type": "code",
   "execution_count": 35,
   "metadata": {},
   "outputs": [],
   "source": [
    "nodes = []\n",
    "node_labels  = ['Anime']\n",
    "for doc in doc_list:\n",
    "    id_ = doc[0]\n",
    "    prop = dict(zip(columns[1:], doc[1:]))\n",
    "    node = Node(id=id_, label=node_labels, properties=prop)\n",
    "    nodes.append(node)\n"
   ]
  },
  {
   "cell_type": "code",
   "execution_count": 60,
   "metadata": {},
   "outputs": [],
   "source": [
    "res = merge_node(graph, nodes)"
   ]
  },
  {
   "cell_type": "code",
   "execution_count": null,
   "metadata": {},
   "outputs": [],
   "source": []
  }
 ],
 "metadata": {
  "kernelspec": {
   "display_name": ".venv",
   "language": "python",
   "name": "python3"
  },
  "language_info": {
   "codemirror_mode": {
    "name": "ipython",
    "version": 3
   },
   "file_extension": ".py",
   "mimetype": "text/x-python",
   "name": "python",
   "nbconvert_exporter": "python",
   "pygments_lexer": "ipython3",
   "version": "3.10.3"
  }
 },
 "nbformat": 4,
 "nbformat_minor": 2
}
