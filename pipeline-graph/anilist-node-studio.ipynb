{
 "cells": [
  {
   "cell_type": "code",
   "execution_count": 4,
   "metadata": {},
   "outputs": [
    {
     "data": {
      "text/plain": [
       "True"
      ]
     },
     "execution_count": 4,
     "metadata": {},
     "output_type": "execute_result"
    }
   ],
   "source": [
    "from pathlib import Path\n",
    "from pydantic import BaseModel\n",
    "from typing import Any\n",
    "from neo4j import GraphDatabase\n",
    "from dotenv import load_dotenv\n",
    "import os\n",
    "import duckdb\n",
    "load_dotenv()"
   ]
  },
  {
   "cell_type": "code",
   "execution_count": 5,
   "metadata": {},
   "outputs": [],
   "source": [
    "class Neo4jGraph:\n",
    "\n",
    "    def __init__(self, neo4j_uri:str, neo4j_username:str, neo4j_password:str, db:str)->None:\n",
    "        self.uri  = neo4j_uri\n",
    "        self.auth = (neo4j_username, neo4j_password)\n",
    "        self.db = db\n",
    "        self.driver = GraphDatabase.driver(self.uri, auth=self.auth)\n",
    "\n",
    "    def query(self, query:str, params:dict):\n",
    "        with self.driver.session(database=self.db) as session:\n",
    "            result = session.run(query, params)\n",
    "            return [r for r in result]\n",
    "\n",
    "class Node(BaseModel):\n",
    "    id:int\n",
    "    label: list[str]\n",
    "    properties:dict[str, Any]\n",
    "\n",
    "class Relation(BaseModel):\n",
    "    id:str\n",
    "    label:str\n",
    "    properties:dict[str, Any]\n"
   ]
  },
  {
   "cell_type": "code",
   "execution_count": 6,
   "metadata": {},
   "outputs": [],
   "source": [
    "def merge_node(graph:Neo4jGraph, nodes:list[Node]):\n",
    "    res = graph.query(\n",
    "        \"UNWIND $data as row \"\n",
    "        \"CALL apoc.merge.node(\"\n",
    "        \"row.label, \"\n",
    "        \"{id:row.id}, \"\n",
    "        \"row.properties, \"\n",
    "        \"row.properties ) \"\n",
    "        \"YIELD node \"\n",
    "        \"RETURN node.id AS id\"\n",
    "        ,\n",
    "        {\n",
    "            \"data\":[\n",
    "                node.__dict__ for node in nodes\n",
    "            ]\n",
    "        }\n",
    "    )\n",
    "    return res"
   ]
  },
  {
   "cell_type": "code",
   "execution_count": 7,
   "metadata": {},
   "outputs": [],
   "source": [
    "base_path = Path().cwd().parent\n",
    "source_path = base_path / Path('gold/anilist/dim-studio.parquet')\n",
    "\n",
    "neo4j_uri = os.environ['neo4j_uri']\n",
    "neo4j_username = os.environ['neo4j_username']\n",
    "neo4j_password = os.environ['neo4j_password']\n",
    "neo4j_dbname = os.environ['neo4j_dbname']"
   ]
  },
  {
   "cell_type": "code",
   "execution_count": 8,
   "metadata": {},
   "outputs": [],
   "source": [
    "graph = Neo4jGraph(\n",
    "    neo4j_uri,\n",
    "    neo4j_username,\n",
    "    neo4j_password,\n",
    "    neo4j_dbname,\n",
    ")"
   ]
  },
  {
   "cell_type": "code",
   "execution_count": 9,
   "metadata": {},
   "outputs": [],
   "source": [
    "def make_node_list_from_table(rows:list[Any], labels:list[str], columns:list[str])->list[Node]:\n",
    "    nodes = []\n",
    "    node_labels  = labels\n",
    "    for row in rows:\n",
    "        id_ = row[0]\n",
    "        prop = dict(zip(columns[1:], row[1:]))\n",
    "        node = Node(id=id_, label=node_labels, properties=prop)\n",
    "        nodes.append(node)\n",
    "\n",
    "    return nodes"
   ]
  },
  {
   "cell_type": "code",
   "execution_count": 12,
   "metadata": {},
   "outputs": [
    {
     "data": {
      "text/plain": [
       "(338, 3)"
      ]
     },
     "execution_count": 12,
     "metadata": {},
     "output_type": "execute_result"
    }
   ],
   "source": [
    "tb = duckdb.read_parquet(str(source_path))\n",
    "tb.shape"
   ]
  },
  {
   "cell_type": "code",
   "execution_count": 13,
   "metadata": {},
   "outputs": [],
   "source": [
    "BATCH_SIZE = 5000\n",
    "num_rows, num_column = tb.shape\n",
    "columns = tb.columns\n",
    "labels = ['Studio']"
   ]
  },
  {
   "cell_type": "code",
   "execution_count": 14,
   "metadata": {},
   "outputs": [
    {
     "name": "stdout",
     "output_type": "stream",
     "text": [
      "Inserting batch 1 (338 rows) into neo4j\n"
     ]
    }
   ],
   "source": [
    "batch = tb.fetchmany(size=BATCH_SIZE)\n",
    "n = 1\n",
    "while batch:\n",
    "    nodes = make_node_list_from_table(batch, labels, columns)\n",
    "    print(f\"Inserting batch {n} ({len(nodes)} rows) into neo4j\")\n",
    "    res = merge_node(graph, nodes)\n",
    "    batch = tb.fetchmany(size=BATCH_SIZE)\n",
    "    n += 1"
   ]
  },
  {
   "cell_type": "code",
   "execution_count": null,
   "metadata": {},
   "outputs": [],
   "source": []
  },
  {
   "cell_type": "code",
   "execution_count": null,
   "metadata": {},
   "outputs": [],
   "source": []
  }
 ],
 "metadata": {
  "kernelspec": {
   "display_name": ".venv",
   "language": "python",
   "name": "python3"
  },
  "language_info": {
   "codemirror_mode": {
    "name": "ipython",
    "version": 3
   },
   "file_extension": ".py",
   "mimetype": "text/x-python",
   "name": "python",
   "nbconvert_exporter": "python",
   "pygments_lexer": "ipython3",
   "version": "3.10.13"
  }
 },
 "nbformat": 4,
 "nbformat_minor": 2
}
