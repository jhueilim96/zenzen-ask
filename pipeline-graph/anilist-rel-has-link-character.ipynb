{
 "cells": [
  {
   "cell_type": "code",
   "execution_count": 1,
   "metadata": {},
   "outputs": [
    {
     "data": {
      "text/plain": [
       "True"
      ]
     },
     "execution_count": 1,
     "metadata": {},
     "output_type": "execute_result"
    }
   ],
   "source": [
    "from pathlib import Path\n",
    "from pydantic import BaseModel\n",
    "from typing import Any\n",
    "from neo4j import GraphDatabase\n",
    "from dotenv import load_dotenv\n",
    "import os\n",
    "import duckdb\n",
    "load_dotenv()"
   ]
  },
  {
   "cell_type": "code",
   "execution_count": 2,
   "metadata": {},
   "outputs": [],
   "source": [
    "class Neo4jGraph:\n",
    "\n",
    "    def __init__(self, neo4j_uri:str, neo4j_username:str, neo4j_password:str, db:str)->None:\n",
    "        self.uri  = neo4j_uri\n",
    "        self.auth = (neo4j_username, neo4j_password)\n",
    "        self.db = db\n",
    "        self.driver = GraphDatabase.driver(self.uri, auth=self.auth)\n",
    "\n",
    "    def query(self, query:str, params:dict):\n",
    "        with self.driver.session(database=self.db) as session:\n",
    "            result = session.run(query, params)\n",
    "            return [r for r in result]\n",
    "\n",
    "class Node(BaseModel):\n",
    "    id:int\n",
    "    label: str | list[str]\n",
    "    properties: dict[str, Any] = {}\n",
    "\n",
    "class Relation(BaseModel):\n",
    "    id:int | None\n",
    "    label:str\n",
    "    properties:dict[str, Any] = {}\n",
    "    source: Node\n",
    "    target:Node\n"
   ]
  },
  {
   "cell_type": "code",
   "execution_count": 3,
   "metadata": {},
   "outputs": [],
   "source": [
    "def merge_rel(graph:Neo4jGraph, relations:list[Relation], source_label:str, target_label:str):\n",
    "    res = graph.query(\n",
    "        \"UNWIND $data as row \"\n",
    "        f\"MATCH (source_node:{source_label} {{ id: row.source.id }}) \"\n",
    "        f\"MATCH (target_node:{target_label} {{ id: row.target.id }}) \"\n",
    "        \"CALL apoc.merge.relationship(source_node, \"\n",
    "        \"row.label, \"\n",
    "        \"row.id, \"\n",
    "        \"row.properties, \"\n",
    "        \"target_node, \"\n",
    "        \"row.properties ) \"\n",
    "        \"YIELD rel \"\n",
    "        \"RETURN rel \"\n",
    "        ,\n",
    "        {\n",
    "            \"data\":[\n",
    "                {\n",
    "                    'id': {'id': rel.id} if rel.id is not None else {},\n",
    "                    'label': rel.label,\n",
    "                    'source': rel.source.model_dump(),\n",
    "                    'target':rel.target.model_dump(),\n",
    "                    'properties': rel.properties,\n",
    "                } for rel in relations\n",
    "            ],\n",
    "        }\n",
    "    )\n",
    "    return res"
   ]
  },
  {
   "cell_type": "code",
   "execution_count": 4,
   "metadata": {},
   "outputs": [],
   "source": [
    "neo4j_uri = os.environ['neo4j_uri']\n",
    "neo4j_username = os.environ['neo4j_username']\n",
    "neo4j_password = os.environ['neo4j_password']\n",
    "neo4j_dbname = os.environ['neo4j_dbname']"
   ]
  },
  {
   "cell_type": "code",
   "execution_count": 5,
   "metadata": {},
   "outputs": [],
   "source": [
    "graph = Neo4jGraph(\n",
    "    neo4j_uri,\n",
    "    neo4j_username,\n",
    "    neo4j_password,\n",
    "    neo4j_dbname,\n",
    ")"
   ]
  },
  {
   "cell_type": "code",
   "execution_count": 10,
   "metadata": {},
   "outputs": [],
   "source": [
    "cypher = \"\"\"\n",
    "MATCH (n:Character)\n",
    "WHERE n.site_url IS NOT NULL\n",
    "WITH n\n",
    "MERGE (n)-[:HAS_LINK]->(m:Link {url: n.site_url})\n",
    "return id(m) AS id\n",
    "\"\"\""
   ]
  },
  {
   "cell_type": "code",
   "execution_count": 11,
   "metadata": {},
   "outputs": [],
   "source": [
    "res = graph.query(cypher, {})\n"
   ]
  },
  {
   "cell_type": "code",
   "execution_count": 12,
   "metadata": {},
   "outputs": [
    {
     "name": "stdout",
     "output_type": "stream",
     "text": [
      "Merged 8263 links\n"
     ]
    }
   ],
   "source": [
    "print(f\"Merged {len(res)} links\")"
   ]
  }
 ],
 "metadata": {
  "kernelspec": {
   "display_name": ".venv",
   "language": "python",
   "name": "python3"
  },
  "language_info": {
   "codemirror_mode": {
    "name": "ipython",
    "version": 3
   },
   "file_extension": ".py",
   "mimetype": "text/x-python",
   "name": "python",
   "nbconvert_exporter": "python",
   "pygments_lexer": "ipython3",
   "version": "3.10.13"
  }
 },
 "nbformat": 4,
 "nbformat_minor": 2
}
