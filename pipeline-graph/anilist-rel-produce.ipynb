{
 "cells": [
  {
   "cell_type": "code",
   "execution_count": 1,
   "metadata": {},
   "outputs": [
    {
     "data": {
      "text/plain": [
       "True"
      ]
     },
     "execution_count": 1,
     "metadata": {},
     "output_type": "execute_result"
    }
   ],
   "source": [
    "from pathlib import Path\n",
    "from pydantic import BaseModel\n",
    "from typing import Any\n",
    "from neo4j import GraphDatabase\n",
    "from dotenv import load_dotenv\n",
    "import os\n",
    "import duckdb\n",
    "load_dotenv()"
   ]
  },
  {
   "cell_type": "code",
   "execution_count": 2,
   "metadata": {},
   "outputs": [],
   "source": [
    "class Neo4jGraph:\n",
    "\n",
    "    def __init__(self, neo4j_uri:str, neo4j_username:str, neo4j_password:str, db:str)->None:\n",
    "        self.uri  = neo4j_uri\n",
    "        self.auth = (neo4j_username, neo4j_password)\n",
    "        self.db = db\n",
    "        self.driver = GraphDatabase.driver(self.uri, auth=self.auth)\n",
    "\n",
    "    def query(self, query:str, params:dict):\n",
    "        with self.driver.session(database=self.db) as session:\n",
    "            result = session.run(query, params)\n",
    "            return [r for r in result]\n",
    "\n",
    "class Node(BaseModel):\n",
    "    id:int\n",
    "    label: str | list[str]\n",
    "    properties: dict[str, Any] = {}\n",
    "\n",
    "class Relation(BaseModel):\n",
    "    id:int | None\n",
    "    label:str\n",
    "    properties:dict[str, Any] = {}\n",
    "    source: Node\n",
    "    target:Node\n"
   ]
  },
  {
   "cell_type": "code",
   "execution_count": 3,
   "metadata": {},
   "outputs": [],
   "source": [
    "def merge_rel(graph:Neo4jGraph, relations:list[Relation], source_label:str, target_label:str):\n",
    "    res = graph.query(\n",
    "        \"UNWIND $data as row \"\n",
    "        f\"MATCH (source_node:{source_label} {{ id: row.source.id }}) \"\n",
    "        f\"MATCH (target_node:{target_label} {{ id: row.target.id }}) \"\n",
    "        \"CALL apoc.merge.relationship(source_node, \"\n",
    "        \"row.label, \"\n",
    "        \"row.id, \"\n",
    "        \"row.properties, \"\n",
    "        \"target_node, \"\n",
    "        \"row.properties ) \"\n",
    "        \"YIELD rel \"\n",
    "        \"RETURN rel \"\n",
    "        ,\n",
    "        {\n",
    "            \"data\":[\n",
    "                {\n",
    "                    'id': {'id': rel.id} if rel.id is not None else {},\n",
    "                    'label': rel.label,\n",
    "                    'source': rel.source.model_dump(),\n",
    "                    'target':rel.target.model_dump(),\n",
    "                    'properties': rel.properties,\n",
    "                } for rel in relations\n",
    "            ],\n",
    "        }\n",
    "    )\n",
    "    return res"
   ]
  },
  {
   "cell_type": "code",
   "execution_count": 4,
   "metadata": {},
   "outputs": [],
   "source": [
    "base_path = Path().cwd().parent\n",
    "source_path = base_path / Path('gold/anilist/fact-studio-produce.parquet')\n",
    "\n",
    "neo4j_uri = os.environ['neo4j_uri']\n",
    "neo4j_username = os.environ['neo4j_username']\n",
    "neo4j_password = os.environ['neo4j_password']\n",
    "neo4j_dbname = os.environ['neo4j_dbname']"
   ]
  },
  {
   "cell_type": "code",
   "execution_count": 5,
   "metadata": {},
   "outputs": [],
   "source": [
    "graph = Neo4jGraph(\n",
    "    neo4j_uri,\n",
    "    neo4j_username,\n",
    "    neo4j_password,\n",
    "    neo4j_dbname,\n",
    ")"
   ]
  },
  {
   "cell_type": "code",
   "execution_count": 6,
   "metadata": {},
   "outputs": [],
   "source": [
    "def make_rel_list_from_table(rows:list[tuple], source_label:str, rel_labels:list[str], columns:list[str], target_label:str,)->list[Relation]:\n",
    "    rels = []\n",
    "    for row in rows:\n",
    "        id_ = row[0]\n",
    "        source_id = row[1]\n",
    "        source = Node(id=source_id, label=source_label, properties={})\n",
    "        target_id = row[2]\n",
    "        target = Node(id=target_id, label=target_label, properties={})\n",
    "        prop = dict(zip(columns[3:], row[3:])) if len(row) > 3 else {}\n",
    "        rel = Relation(id=id_, label=rel_labels, properties=prop, source=source, target=target)\n",
    "        rels.append(rel)\n",
    "\n",
    "    return rels"
   ]
  },
  {
   "cell_type": "code",
   "execution_count": 7,
   "metadata": {},
   "outputs": [
    {
     "data": {
      "text/plain": [
       "(2355, 4)"
      ]
     },
     "execution_count": 7,
     "metadata": {},
     "output_type": "execute_result"
    }
   ],
   "source": [
    "tb = duckdb.read_parquet(str(source_path))\n",
    "tb.shape"
   ]
  },
  {
   "cell_type": "code",
   "execution_count": 9,
   "metadata": {},
   "outputs": [
    {
     "data": {
      "text/plain": [
       "(2355, 4)"
      ]
     },
     "execution_count": 9,
     "metadata": {},
     "output_type": "execute_result"
    }
   ],
   "source": [
    "tb_rel = duckdb.sql(\"\"\"\n",
    "SELECT\n",
    "    studio_edge_id AS rel_id\n",
    "    , studio_id\n",
    "    , anime_id\n",
    "    , isMain\n",
    "FROM tb\n",
    "\"\"\")\n",
    "tb_rel.shape"
   ]
  },
  {
   "cell_type": "code",
   "execution_count": 10,
   "metadata": {},
   "outputs": [],
   "source": [
    "BATCH_SIZE = 10000\n",
    "num_rows, num_column = tb.shape\n",
    "columns = tb_rel.columns\n",
    "labels = 'PRODUCE'\n",
    "source_label = \"Studio\"\n",
    "target_label = \"Anime\""
   ]
  },
  {
   "cell_type": "code",
   "execution_count": 11,
   "metadata": {},
   "outputs": [
    {
     "name": "stdout",
     "output_type": "stream",
     "text": [
      "Inserted relationship batch 1 (2355 rows) into neo4j-kgserve\n"
     ]
    }
   ],
   "source": [
    "batch = tb_rel.fetchmany(size=BATCH_SIZE)\n",
    "n=1\n",
    "while batch:\n",
    "    rels = make_rel_list_from_table(rows=batch, source_label=source_label, rel_labels=labels, columns=columns, target_label=target_label,)\n",
    "    res = merge_rel(graph, rels, source_label=source_label, target_label=target_label)\n",
    "    print(f\"Inserted relationship batch {n} ({len(res)} rows) into neo4j-{neo4j_dbname}\")\n",
    "    batch = tb_rel.fetchmany(size=BATCH_SIZE)\n",
    "    n += 1"
   ]
  },
  {
   "cell_type": "code",
   "execution_count": null,
   "metadata": {},
   "outputs": [],
   "source": []
  }
 ],
 "metadata": {
  "kernelspec": {
   "display_name": ".venv",
   "language": "python",
   "name": "python3"
  },
  "language_info": {
   "codemirror_mode": {
    "name": "ipython",
    "version": 3
   },
   "file_extension": ".py",
   "mimetype": "text/x-python",
   "name": "python",
   "nbconvert_exporter": "python",
   "pygments_lexer": "ipython3",
   "version": "3.10.13"
  }
 },
 "nbformat": 4,
 "nbformat_minor": 2
}
