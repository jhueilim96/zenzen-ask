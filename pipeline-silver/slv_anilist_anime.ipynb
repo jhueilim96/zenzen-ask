{
 "cells": [
  {
   "cell_type": "code",
   "execution_count": 77,
   "metadata": {},
   "outputs": [],
   "source": [
    "import duckdb\n",
    "from pathlib import Path\n",
    "import datetime"
   ]
  },
  {
   "cell_type": "code",
   "execution_count": 81,
   "metadata": {},
   "outputs": [],
   "source": [
    "ts = datetime.datetime.now()"
   ]
  },
  {
   "cell_type": "code",
   "execution_count": 83,
   "metadata": {},
   "outputs": [],
   "source": [
    "base_path = Path().cwd().parent\n",
    "source_path = base_path / Path('raw/entity/anime')\n",
    "target_path = base_path / Path(f'silver/anilist/anime/anime-{ts.year}-{ts.month}-{ts.day}.parquet')"
   ]
  },
  {
   "cell_type": "code",
   "execution_count": 69,
   "metadata": {},
   "outputs": [],
   "source": [
    "tb_anime = duckdb.sql(f\"\"\"\n",
    "    WITH source AS(\n",
    "    SELECT * FROM read_json_auto('{str(source_path)}/*.json')\n",
    "    )  \n",
    "    , extracted_to_list AS (\n",
    "    SELECT (source->>'Page'->>'media')::JSON[] as anime_list FROM source\n",
    "    )\n",
    "    , unnest_ AS (\n",
    "    SELECT unnest(anime_list) as anime FROM extracted_to_list \n",
    "    )\n",
    "    , extracted_attributes AS (\n",
    "        SELECT json_extract_string(anime, \n",
    "        [\n",
    "            'id'\n",
    "            , '$.title.english'\n",
    "            , 'type'\n",
    "            , 'format'\n",
    "            , 'description'\n",
    "            , 'season'\n",
    "            , 'seasonYear'\n",
    "            , 'seasonInt'\n",
    "            , 'episodes'\n",
    "            , 'duration'\n",
    "            , 'chapters'\n",
    "            , 'volumes'\n",
    "            , 'countryOfOrigin'\n",
    "            , 'source'\n",
    "            , 'genres'\n",
    "            , 'synonyms'\n",
    "            , 'averageScore'\n",
    "            , 'meanScore'\n",
    "            , 'popularity'\n",
    "            , 'trending'\n",
    "            , 'favourites'\n",
    "            , 'isAdult'\n",
    "            , '$.startDate.year'\n",
    "            , '$.startDate.month'\n",
    "            , '$.startDate.day'\n",
    "            , '$.endDate.year'\n",
    "            , '$.endDate.month'\n",
    "            , '$.endDate.day'\n",
    "        ]) attribute_list \n",
    "        FROM unnest_\n",
    "    )\n",
    "    , flatten_cast AS (\n",
    "        SELECT \n",
    "        attribute_list[1]::INT as id\n",
    "        , attribute_list[2] as title\n",
    "        , attribute_list[3] as type\n",
    "        , attribute_list[4] as format\n",
    "        , attribute_list[5] as description\n",
    "        , attribute_list[6] as season\n",
    "        , attribute_list[7]::INT as seasonYear\n",
    "        , attribute_list[8]::INT as seasonInt\n",
    "        , attribute_list[9]::INT as episodes\n",
    "        , attribute_list[10]::INT as duration\n",
    "        , attribute_list[11] as chapters\n",
    "        , attribute_list[12] as volumes\n",
    "        , attribute_list[13] as countryOfOrigin\n",
    "        , attribute_list[14] as source\n",
    "        , attribute_list[15]::VARCHAR[] as genres\n",
    "        , attribute_list[16]::VARCHAR[] as synonyms\n",
    "        , attribute_list[17]::INT as averageScore\n",
    "        , attribute_list[18]::INT as meanScore\n",
    "        , attribute_list[19]::INT as popularity\n",
    "        , attribute_list[20]::INT as trending\n",
    "        , attribute_list[21]::INT as favourites\n",
    "        , attribute_list[22]::BOOL as isAdult\n",
    "        , make_date(\n",
    "            attribute_list[23]::INT\n",
    "            , attribute_list[24]::INT\n",
    "            , attribute_list[25]::INT\n",
    "            ) as startDate\n",
    "        , make_date(\n",
    "            attribute_list[26]::INT\n",
    "            , attribute_list[27]::INT\n",
    "            , attribute_list[28]::INT\n",
    "            ) as endDate\n",
    "        FROM extracted_attributes\n",
    "    )\n",
    "    SELECT * from flatten_cast\n",
    "\"\"\")"
   ]
  },
  {
   "cell_type": "code",
   "execution_count": 86,
   "metadata": {},
   "outputs": [],
   "source": [
    "tb_anime.to_parquet(str(target_path))"
   ]
  }
 ],
 "metadata": {
  "kernelspec": {
   "display_name": ".venv",
   "language": "python",
   "name": "python3"
  },
  "language_info": {
   "codemirror_mode": {
    "name": "ipython",
    "version": 3
   },
   "file_extension": ".py",
   "mimetype": "text/x-python",
   "name": "python",
   "nbconvert_exporter": "python",
   "pygments_lexer": "ipython3",
   "version": "3.10.3"
  }
 },
 "nbformat": 4,
 "nbformat_minor": 2
}
