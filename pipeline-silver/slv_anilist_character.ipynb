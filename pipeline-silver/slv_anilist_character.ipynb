{
 "cells": [
  {
   "cell_type": "code",
   "execution_count": 3,
   "metadata": {},
   "outputs": [],
   "source": [
    "import duckdb\n",
    "from pathlib import Path\n",
    "import datetime"
   ]
  },
  {
   "cell_type": "code",
   "execution_count": 4,
   "metadata": {},
   "outputs": [],
   "source": [
    "ts = datetime.datetime.now()"
   ]
  },
  {
   "cell_type": "code",
   "execution_count": 5,
   "metadata": {},
   "outputs": [],
   "source": [
    "base_path = Path().cwd().parent\n",
    "source_path = base_path / Path('raw/entity/anime-character')\n",
    "target_path = base_path / Path(f'silver/anilist/character/character-{ts.year}-{ts.month}-{ts.day}.parquet')"
   ]
  },
  {
   "cell_type": "code",
   "execution_count": 10,
   "metadata": {},
   "outputs": [],
   "source": [
    "tb_character = duckdb.sql(f\"\"\"\n",
    "    WITH source AS(\n",
    "        SELECT * FROM read_json_auto('{str(source_path)}/*.json')\n",
    "    )\n",
    "    , tb_edge_list AS (\n",
    "        SELECT\n",
    "        json_extract(source,\n",
    "        [\n",
    "            '$.data.Media.id'\n",
    "            , '$.data.Media.characters.edges'\n",
    "        ]) edges_list\n",
    "        FROM source\n",
    "    )\n",
    "    , tb_unnest_edge_list AS (\n",
    "        SELECT\n",
    "            edges_list[1] AS anime_id\n",
    "        ,   unnest(edges_list[2]::JSON[]) as edge\n",
    "        FROM tb_edge_list\n",
    "    )\n",
    "    , tb_extract_edge AS (\n",
    "        SELECT\n",
    "        anime_id\n",
    "        , json_extract_string(edge, [\n",
    "            '$.role'\n",
    "            , '$.name'\n",
    "            , '$.node.id'\n",
    "            , '$.node.name.first'\n",
    "            , '$.node.name.middle'\n",
    "            , '$.node.name.last'\n",
    "            , '$.node.name.full'\n",
    "            , '$.node.name.native'\n",
    "            , '$.node.name.alternative'\n",
    "            , '$.node.image.medium'\n",
    "            , '$.node.description'\n",
    "            , '$.node.gender'\n",
    "            , '$.node.dateOfBirth.year'\n",
    "            , '$.node.dateOfBirth.month'\n",
    "            , '$.node.dateOfBirth.day'\n",
    "            , '$.node.age'\n",
    "            , '$.node.bloodType'\n",
    "            , '$.node.siteUrl'\n",
    "        ]) nodes\n",
    "        FROM tb_unnest_edge_list\n",
    "    ), rename AS(\n",
    "        SELECT\n",
    "        anime_id::INT as anime_id\n",
    "        , nodes[1]::VARCHAR AS role\n",
    "        , nodes[2]::VARCHAR AS role_name\n",
    "        , nodes[3]::INT AS character_id\n",
    "        , nodes[4]::VARCHAR AS name_first\n",
    "        , nodes[5]::VARCHAR AS name_middle\n",
    "        , nodes[6]::VARCHAR AS name_last\n",
    "        , nodes[7]::VARCHAR AS name_full\n",
    "        , nodes[8]::VARCHAR AS name_native\n",
    "        , nodes[9]::JSON::VARCHAR[] AS name_alternative\n",
    "        , nodes[10]::VARCHAR AS image\n",
    "        , nodes[11]::VARCHAR AS description\n",
    "        , nodes[12]::VARCHAR AS gender\n",
    "        , nodes[13]::INT AS dateOfBirth_year\n",
    "        , nodes[14]::INT  AS dateOfBirth_month\n",
    "        , nodes[15]::INT  AS dateOfBirth_day\n",
    "        , nodes[16]::VARCHAR  AS age\n",
    "        , nodes[17]::VARCHAR AS bloodType\n",
    "        , nodes[18]::VARCHAR AS siteUrl\n",
    "        FROM tb_extract_edge\n",
    "    )\n",
    "        SELECT *\n",
    "        FROM rename\n",
    "\"\"\")"
   ]
  },
  {
   "cell_type": "code",
   "execution_count": 12,
   "metadata": {},
   "outputs": [],
   "source": [
    "tb_character.to_parquet(str(target_path))"
   ]
  }
 ],
 "metadata": {
  "kernelspec": {
   "display_name": ".venv",
   "language": "python",
   "name": "python3"
  },
  "language_info": {
   "codemirror_mode": {
    "name": "ipython",
    "version": 3
   },
   "file_extension": ".py",
   "mimetype": "text/x-python",
   "name": "python",
   "nbconvert_exporter": "python",
   "pygments_lexer": "ipython3",
   "version": "3.10.13"
  }
 },
 "nbformat": 4,
 "nbformat_minor": 2
}
