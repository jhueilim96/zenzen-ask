{
 "cells": [
  {
   "cell_type": "code",
   "execution_count": 1,
   "metadata": {},
   "outputs": [],
   "source": [
    "import duckdb\n",
    "from pathlib import Path\n",
    "import datetime"
   ]
  },
  {
   "cell_type": "code",
   "execution_count": 2,
   "metadata": {},
   "outputs": [],
   "source": [
    "ts = datetime.datetime.now()"
   ]
  },
  {
   "cell_type": "code",
   "execution_count": 3,
   "metadata": {},
   "outputs": [],
   "source": [
    "base_path = Path().cwd().parent\n",
    "source_path = base_path / Path('raw/entity/anime')\n",
    "target_path = base_path / Path(f'silver/anilist/link/link-{ts.year}-{ts.month}-{ts.day}.parquet')"
   ]
  },
  {
   "cell_type": "code",
   "execution_count": 4,
   "metadata": {},
   "outputs": [],
   "source": [
    "tb_links = duckdb.sql(f\"\"\"\n",
    "    WITH source AS(\n",
    "    SELECT * FROM read_json_auto('{str(source_path)}/*.json')\n",
    "    )\n",
    "    , extracted_to_list AS (\n",
    "    SELECT (source->>'Page'->>'media')::JSON[] as anime_list FROM source\n",
    "    )\n",
    "    , unnest_ AS (\n",
    "    SELECT unnest(anime_list) as anime FROM extracted_to_list\n",
    "    )\n",
    "    , extracted_attributes_list AS (\n",
    "        SELECT\n",
    "        json_extract_string(anime,\n",
    "        [\n",
    "            'id'\n",
    "            , '$.externalLinks'\n",
    "\n",
    "        ]) attribute_list\n",
    "        FROM unnest_\n",
    "    )\n",
    "    , tb_links AS (\n",
    "        SELECT\n",
    "        attribute_list[1]::INT AS id\n",
    "        , json_extract_string(unnest(attribute_list[2]::JSON[]),\n",
    "        [\n",
    "            '$.id'\n",
    "            , '$.url'\n",
    "            , '$.site'\n",
    "            , '$.type'\n",
    "            , '$.siteId'\n",
    "            , '$.language'\n",
    "        ]) attribute_list_link\n",
    "        FROM extracted_attributes_list\n",
    "    )\n",
    "    SELECT\n",
    "        attribute_list_link[1]::INT AS id\n",
    "        , attribute_list_link[2]::VARCHAR AS url\n",
    "        , attribute_list_link[3]::VARCHAR AS site\n",
    "        , attribute_list_link[4]::VARCHAR AS type\n",
    "        , attribute_list_link[5]::INT AS siteId\n",
    "        , attribute_list_link[6]::VARCHAR AS language\n",
    "        , id AS anime_id\n",
    "    FROM tb_links\n",
    "\"\"\")"
   ]
  },
  {
   "cell_type": "code",
   "execution_count": 8,
   "metadata": {},
   "outputs": [],
   "source": [
    "tb_links.to_parquet(str(target_path))"
   ]
  }
 ],
 "metadata": {
  "kernelspec": {
   "display_name": ".venv",
   "language": "python",
   "name": "python3"
  },
  "language_info": {
   "codemirror_mode": {
    "name": "ipython",
    "version": 3
   },
   "file_extension": ".py",
   "mimetype": "text/x-python",
   "name": "python",
   "nbconvert_exporter": "python",
   "pygments_lexer": "ipython3",
   "version": "3.10.13"
  }
 },
 "nbformat": 4,
 "nbformat_minor": 2
}
