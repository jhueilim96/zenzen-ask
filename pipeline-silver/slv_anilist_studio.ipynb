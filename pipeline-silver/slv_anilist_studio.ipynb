{
 "cells": [
  {
   "cell_type": "code",
   "execution_count": 1,
   "metadata": {},
   "outputs": [],
   "source": [
    "import duckdb\n",
    "from pathlib import Path\n",
    "import datetime"
   ]
  },
  {
   "cell_type": "code",
   "execution_count": 2,
   "metadata": {},
   "outputs": [],
   "source": [
    "ts = datetime.datetime.now()"
   ]
  },
  {
   "cell_type": "code",
   "execution_count": 3,
   "metadata": {},
   "outputs": [],
   "source": [
    "base_path = Path().cwd().parent\n",
    "source_path = base_path / Path('raw/entity/anime-studio')\n",
    "target_path = base_path / Path(f'silver/anilist/studio/studio-{ts.year}-{ts.month}-{ts.day}.parquet')"
   ]
  },
  {
   "cell_type": "code",
   "execution_count": 6,
   "metadata": {},
   "outputs": [],
   "source": [
    "tb_studio = duckdb.sql(f\"\"\"\n",
    "    WITH source AS(\n",
    "        SELECT * FROM read_json_auto('{str(source_path)}/*.json')\n",
    "    )\n",
    "    , tb_edge_list AS (\n",
    "        SELECT\n",
    "        json_extract(source,\n",
    "        [\n",
    "            '$.data.Media.id'\n",
    "            , '$.data.Media.studios.edges'\n",
    "        ]) edges_list\n",
    "        FROM source\n",
    "    )\n",
    "    , tb_unnest_node_list AS (\n",
    "        SELECT\n",
    "            edges_list[1] AS anime_id\n",
    "        ,   unnest(edges_list[2]::JSON[]) as edge\n",
    "        FROM tb_edge_list\n",
    "    )\n",
    "    , tb_extract_node AS (\n",
    "        SELECT\n",
    "        anime_id\n",
    "        , json_extract_string(edge, [\n",
    "            '$.id'\n",
    "            , '$.isMain'\n",
    "            , '$.node.id'\n",
    "            , '$.node.name'\n",
    "            , '$.node.isAnimationStudio'\n",
    "        ]) nodes\n",
    "        FROM tb_unnest_node_list\n",
    "    ), rename AS(\n",
    "        SELECT\n",
    "        anime_id::INT as anime_id\n",
    "        , nodes[1]::INT AS studio_edge_id\n",
    "        , nodes[2]::BOOLEAN AS isMain\n",
    "        , nodes[3]::INT AS studio_id\n",
    "        , nodes[4]::VARCHAR AS name\n",
    "        , nodes[5]::BOOLEAN AS isAnimationStudio\n",
    "        FROM tb_extract_node\n",
    "    )\n",
    "        SELECT *\n",
    "        FROM rename\n",
    "\"\"\")\n"
   ]
  },
  {
   "cell_type": "code",
   "execution_count": 9,
   "metadata": {},
   "outputs": [],
   "source": [
    "tb_studio.to_parquet(str(target_path))"
   ]
  }
 ],
 "metadata": {
  "kernelspec": {
   "display_name": ".venv",
   "language": "python",
   "name": "python3"
  },
  "language_info": {
   "codemirror_mode": {
    "name": "ipython",
    "version": 3
   },
   "file_extension": ".py",
   "mimetype": "text/x-python",
   "name": "python",
   "nbconvert_exporter": "python",
   "pygments_lexer": "ipython3",
   "version": "3.10.13"
  }
 },
 "nbformat": 4,
 "nbformat_minor": 2
}
