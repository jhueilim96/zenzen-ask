{
 "cells": [
  {
   "cell_type": "code",
   "execution_count": 1,
   "metadata": {},
   "outputs": [],
   "source": [
    "import duckdb\n",
    "from pathlib import Path\n",
    "import datetime"
   ]
  },
  {
   "cell_type": "code",
   "execution_count": 2,
   "metadata": {},
   "outputs": [],
   "source": [
    "ts = datetime.datetime.now()"
   ]
  },
  {
   "cell_type": "code",
   "execution_count": 3,
   "metadata": {},
   "outputs": [],
   "source": [
    "base_path = Path().cwd().parent\n",
    "source_path = base_path / Path('raw/entity/anime-character')\n",
    "target_path = base_path / Path(f'silver/anilist/voice-actor/voice-actor-{ts.year}-{ts.month}-{ts.day}.parquet')"
   ]
  },
  {
   "cell_type": "code",
   "execution_count": 6,
   "metadata": {},
   "outputs": [],
   "source": [
    "tb_voice_actor = duckdb.sql(f\"\"\"\n",
    "    WITH source AS(\n",
    "        SELECT * FROM read_json_auto('{str(source_path)}/*.json')\n",
    "    )\n",
    "    , tb_edge_list AS (\n",
    "        SELECT \n",
    "        json_extract(source, \n",
    "        [\n",
    "            '$.data.Media.id' \n",
    "            , '$.data.Media.characters.edges'\n",
    "        ]) edges_list\n",
    "        FROM source\n",
    "    )\n",
    "    , tb_unnest_edge_list AS (\n",
    "        SELECT \n",
    "            edges_list[1] AS anime_id\n",
    "        ,   unnest(edges_list[2]::JSON[]) as edge \n",
    "        FROM tb_edge_list \n",
    "    )\n",
    "    , tb_extract_edge AS (\n",
    "        SELECT\n",
    "        anime_id\n",
    "        , json_extract(edge, [\n",
    "            '$.role'\n",
    "            , '$.voiceActors'\n",
    "        ]) edges\n",
    "        FROM tb_unnest_edge_list\n",
    "    ), unnest_edge_voiceactor AS(\n",
    "        SELECT\n",
    "        anime_id as anime_id\n",
    "        , edges[1] AS role\n",
    "        , json_extract(unnest(edges[2]::JSON[]),[\n",
    "            'id'\n",
    "            , '$.name.first'\n",
    "            , '$.name.last'\n",
    "        ]) AS voiceActors\n",
    "        FROM tb_extract_edge \n",
    "    ), rename AS(\n",
    "        SELECT \n",
    "        anime_id\n",
    "        , role\n",
    "        , voiceActors[1] id\n",
    "        , voiceActors[2] name_first\n",
    "        , voiceActors[3] name_last\n",
    "        FROM unnest_edge_voiceactor\n",
    "    ), cast_variable AS(\n",
    "    SELECT  \n",
    "        id::INT AS id\n",
    "        ,name_first::VARCHAR AS name_first\n",
    "        ,name_last::VARCHAR AS name_last\n",
    "        ,anime_id::INT AS anime_id\n",
    "        ,role::VARCHAR AS role\n",
    "    FROM rename\n",
    "    )\n",
    "    SELECT *\n",
    "    FROM cast_variable\n",
    "\"\"\")"
   ]
  },
  {
   "cell_type": "code",
   "execution_count": 7,
   "metadata": {},
   "outputs": [],
   "source": [
    "tb_voice_actor.to_parquet(str(target_path))"
   ]
  }
 ],
 "metadata": {
  "kernelspec": {
   "display_name": ".venv",
   "language": "python",
   "name": "python3"
  },
  "language_info": {
   "codemirror_mode": {
    "name": "ipython",
    "version": 3
   },
   "file_extension": ".py",
   "mimetype": "text/x-python",
   "name": "python",
   "nbconvert_exporter": "python",
   "pygments_lexer": "ipython3",
   "version": "3.10.3"
  }
 },
 "nbformat": 4,
 "nbformat_minor": 2
}
