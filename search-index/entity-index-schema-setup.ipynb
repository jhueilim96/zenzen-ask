{
 "cells": [
  {
   "cell_type": "code",
   "execution_count": null,
   "metadata": {},
   "outputs": [],
   "source": [
    "import typesense\n",
    "import os\n",
    "from dotenv import load_dotenv"
   ]
  },
  {
   "cell_type": "code",
   "execution_count": null,
   "metadata": {},
   "outputs": [],
   "source": [
    "load_dotenv()\n",
    "\n",
    "TYPESENSE_KEY = os.environ['typesense_key']"
   ]
  },
  {
   "cell_type": "code",
   "execution_count": null,
   "metadata": {},
   "outputs": [],
   "source": [
    "client = typesense.Client({\n",
    "  'nodes': [{\n",
    "    'host': 'localhost', # For Typesense Cloud use xxx.a1.typesense.net\n",
    "    'port': '8108',      # For Typesense Cloud use 443\n",
    "    'protocol': 'http'   # For Typesense Cloud use https\n",
    "  }],\n",
    "  'api_key': TYPESENSE_KEY,\n",
    "  'connection_timeout_seconds': 2\n",
    "})"
   ]
  },
  {
   "cell_type": "code",
   "execution_count": null,
   "metadata": {},
   "outputs": [],
   "source": [
    "def drop_schema(collection, ):\n",
    "    drop_schema = {\n",
    "        'fields':[{\n",
    "            'name':field['name'],\n",
    "            'drop':True,\n",
    "        } for field in collection.retrieve().get('fields')]\n",
    "    }\n",
    "\n",
    "    res = collection.update(drop_schema)\n",
    "    return res\n",
    "\n",
    "def update_schema(collection, schema):\n",
    "\n",
    "    res = collection.update({'fields':schema.get('fields')})\n",
    "    return res"
   ]
  },
  {
   "cell_type": "code",
   "execution_count": null,
   "metadata": {},
   "outputs": [],
   "source": [
    "schema = {\n",
    "  'name': 'entity',\n",
    "  'fields': [\n",
    "    {'name': 'id', 'type': 'string', 'optional': False },\n",
    "    {'name': 'name', 'type': 'string', 'optional': False },\n",
    "    {'name': 'type', 'type': 'string[]', 'optional': False, \"facet\": True },\n",
    "    {'name': 'description', 'type': 'string', 'optional': True },\n",
    "    {'name': 'url', 'type': 'string', 'optional': True },\n",
    "    {'name': 'image_url', 'type': 'string', 'optional': True },\n",
    "    {'name': 'detail_url', 'type': 'string', 'optional': True },\n",
    "    {'name': 'detail_text', 'type': 'string', 'optional': True },\n",
    "    {'name': 'synonyms', 'type': 'string[]', 'optional': True },\n",
    "    {'name': 'popularity', 'type': 'int32', 'optional': True , 'sort':True},\n",
    "    {'name': 'meanScore', 'type': 'int32', 'optional': True, 'sort':True},\n",
    "  ]\n",
    "}"
   ]
  },
  {
   "cell_type": "code",
   "execution_count": null,
   "metadata": {},
   "outputs": [],
   "source": [
    "client.collections.create(schema)"
   ]
  },
  {
   "cell_type": "code",
   "execution_count": 74,
   "metadata": {},
   "outputs": [],
   "source": [
    "entity_collection = client.collections['entity']"
   ]
  },
  {
   "cell_type": "code",
   "execution_count": null,
   "metadata": {},
   "outputs": [],
   "source": [
    "drop_schema(entity_collection)"
   ]
  },
  {
   "cell_type": "code",
   "execution_count": null,
   "metadata": {},
   "outputs": [],
   "source": [
    "entity_collection.retrieve()"
   ]
  },
  {
   "cell_type": "code",
   "execution_count": null,
   "metadata": {},
   "outputs": [],
   "source": [
    "update_schema(entity_collection, schema)"
   ]
  },
  {
   "cell_type": "code",
   "execution_count": null,
   "metadata": {},
   "outputs": [],
   "source": [
    "entity_collection.retrieve()"
   ]
  },
  {
   "cell_type": "code",
   "execution_count": null,
   "metadata": {},
   "outputs": [],
   "source": [
    "entity_collection.delete()\n"
   ]
  }
 ],
 "metadata": {
  "kernelspec": {
   "display_name": ".venv",
   "language": "python",
   "name": "python3"
  },
  "language_info": {
   "codemirror_mode": {
    "name": "ipython",
    "version": 3
   },
   "file_extension": ".py",
   "mimetype": "text/x-python",
   "name": "python",
   "nbconvert_exporter": "python",
   "pygments_lexer": "ipython3",
   "version": "3.10.13"
  }
 },
 "nbformat": 4,
 "nbformat_minor": 2
}
