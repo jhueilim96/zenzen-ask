{
 "cells": [
  {
   "cell_type": "code",
   "execution_count": 1,
   "metadata": {},
   "outputs": [],
   "source": [
    "import typesense\n",
    "import os\n",
    "from dotenv import load_dotenv"
   ]
  },
  {
   "cell_type": "code",
   "execution_count": 2,
   "metadata": {},
   "outputs": [],
   "source": [
    "load_dotenv()\n",
    "\n",
    "TYPESENSE_KEY = os.environ['typesense_key']"
   ]
  },
  {
   "cell_type": "code",
   "execution_count": 3,
   "metadata": {},
   "outputs": [],
   "source": [
    "client = typesense.Client({\n",
    "  'nodes': [{\n",
    "    'host': 'localhost', # For Typesense Cloud use xxx.a1.typesense.net\n",
    "    'port': '8108',      # For Typesense Cloud use 443\n",
    "    'protocol': 'http'   # For Typesense Cloud use https\n",
    "  }],\n",
    "  'api_key': TYPESENSE_KEY,\n",
    "  'connection_timeout_seconds': 2\n",
    "})"
   ]
  },
  {
   "cell_type": "markdown",
   "metadata": {},
   "source": [
    "Use facet for control vocabulary because facet field does not undergo tokenization and preprocessing"
   ]
  },
  {
   "cell_type": "code",
   "execution_count": 10,
   "metadata": {},
   "outputs": [],
   "source": [
    "schema = {\n",
    "  'name': 'entity',\n",
    "  'fields': [\n",
    "    {'name': 'id', 'type': 'string', 'optional': True },\n",
    "    {'name': 'name', 'type': 'string' },\n",
    "    {'name': 'type', 'type': 'string[]' },\n",
    "    {'name': 'description', 'type': 'string', 'optional': True }, # for short description\n",
    "    {'name': 'url', 'type': 'string', 'optional': True },\n",
    "    {'name': 'image_url', 'type': 'string', 'optional': True },\n",
    "    {'name': 'detail_url', 'type': 'string', 'optional': True },\n",
    "    {'name': 'detail_text', 'type': 'string', 'optional': True }, # for source-bsaed long description\n",
    "  ],\n",
    "}"
   ]
  },
  {
   "cell_type": "code",
   "execution_count": 11,
   "metadata": {},
   "outputs": [
    {
     "data": {
      "text/plain": [
       "{'created_at': 1705154573,\n",
       " 'default_sorting_field': '',\n",
       " 'enable_nested_fields': False,\n",
       " 'fields': [{'facet': False,\n",
       "   'index': True,\n",
       "   'infix': False,\n",
       "   'locale': '',\n",
       "   'name': 'name',\n",
       "   'optional': False,\n",
       "   'sort': False,\n",
       "   'type': 'string'},\n",
       "  {'facet': False,\n",
       "   'index': True,\n",
       "   'infix': False,\n",
       "   'locale': '',\n",
       "   'name': 'type',\n",
       "   'optional': False,\n",
       "   'sort': False,\n",
       "   'type': 'string[]'},\n",
       "  {'facet': False,\n",
       "   'index': True,\n",
       "   'infix': False,\n",
       "   'locale': '',\n",
       "   'name': 'description',\n",
       "   'optional': True,\n",
       "   'sort': False,\n",
       "   'type': 'string'},\n",
       "  {'facet': False,\n",
       "   'index': True,\n",
       "   'infix': False,\n",
       "   'locale': '',\n",
       "   'name': 'url',\n",
       "   'optional': True,\n",
       "   'sort': False,\n",
       "   'type': 'string'},\n",
       "  {'facet': False,\n",
       "   'index': True,\n",
       "   'infix': False,\n",
       "   'locale': '',\n",
       "   'name': 'image_url',\n",
       "   'optional': True,\n",
       "   'sort': False,\n",
       "   'type': 'string'},\n",
       "  {'facet': False,\n",
       "   'index': True,\n",
       "   'infix': False,\n",
       "   'locale': '',\n",
       "   'name': 'detail_url',\n",
       "   'optional': True,\n",
       "   'sort': False,\n",
       "   'type': 'string'},\n",
       "  {'facet': False,\n",
       "   'index': True,\n",
       "   'infix': False,\n",
       "   'locale': '',\n",
       "   'name': 'detail_text',\n",
       "   'optional': True,\n",
       "   'sort': False,\n",
       "   'type': 'string'}],\n",
       " 'name': 'entity',\n",
       " 'num_documents': 0,\n",
       " 'symbols_to_index': [],\n",
       " 'token_separators': []}"
      ]
     },
     "execution_count": 11,
     "metadata": {},
     "output_type": "execute_result"
    }
   ],
   "source": [
    "client.collections.create(schema)"
   ]
  }
 ],
 "metadata": {
  "kernelspec": {
   "display_name": ".venv",
   "language": "python",
   "name": "python3"
  },
  "language_info": {
   "codemirror_mode": {
    "name": "ipython",
    "version": 3
   },
   "file_extension": ".py",
   "mimetype": "text/x-python",
   "name": "python",
   "nbconvert_exporter": "python",
   "pygments_lexer": "ipython3",
   "version": "3.10.3"
  }
 },
 "nbformat": 4,
 "nbformat_minor": 2
}
