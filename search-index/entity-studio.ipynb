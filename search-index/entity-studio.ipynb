{
 "cells": [
  {
   "cell_type": "code",
   "execution_count": 1,
   "metadata": {},
   "outputs": [],
   "source": [
    "import typesense\n",
    "import os\n",
    "from neo4j import GraphDatabase\n",
    "from pathlib import Path\n",
    "from dotenv import load_dotenv"
   ]
  },
  {
   "cell_type": "code",
   "execution_count": 2,
   "metadata": {},
   "outputs": [],
   "source": [
    "load_dotenv()\n",
    "\n",
    "TYPESENSE_KEY = os.environ['typesense_key']\n",
    "neo4j_uri = os.environ['neo4j_uri']\n",
    "neo4j_username = os.environ['neo4j_username']\n",
    "neo4j_password = os.environ['neo4j_password']\n",
    "neo4j_dbname = os.environ['neo4j_dbname']"
   ]
  },
  {
   "cell_type": "code",
   "execution_count": 3,
   "metadata": {},
   "outputs": [],
   "source": [
    "class Neo4jGraph:\n",
    "\n",
    "    def __init__(self, neo4j_uri:str, neo4j_username:str, neo4j_password:str, db:str)->None:\n",
    "        self.uri  = neo4j_uri\n",
    "        self.auth = (neo4j_username, neo4j_password)\n",
    "        self.db = db\n",
    "        self.driver = GraphDatabase.driver(self.uri, auth=self.auth)\n",
    "\n",
    "    def query(self, query:str, params:dict={}):\n",
    "        with self.driver.session(database=self.db) as session:\n",
    "            result = session.run(query, params)\n",
    "            return [r for r in result]"
   ]
  },
  {
   "cell_type": "code",
   "execution_count": 4,
   "metadata": {},
   "outputs": [],
   "source": [
    "graph = Neo4jGraph(\n",
    "    neo4j_uri,\n",
    "    neo4j_username,\n",
    "    neo4j_password,\n",
    "    neo4j_dbname,\n",
    ")"
   ]
  },
  {
   "cell_type": "code",
   "execution_count": 5,
   "metadata": {},
   "outputs": [],
   "source": [
    "client = typesense.Client({\n",
    "  'nodes': [{\n",
    "    'host': 'localhost',\n",
    "    'port': '8108',\n",
    "    'protocol': 'http'\n",
    "  }],\n",
    "  'api_key': TYPESENSE_KEY,\n",
    "  'connection_timeout_seconds': 2\n",
    "})"
   ]
  },
  {
   "cell_type": "code",
   "execution_count": 10,
   "metadata": {},
   "outputs": [],
   "source": [
    "label = \"Studio\"\n",
    "load_script_path = Path(f\"cypher-query/{label}.cypher\")\n",
    "BATCH_SIZE = 10000\n",
    "SEARCH_INDEX_NAME = 'entity'"
   ]
  },
  {
   "cell_type": "code",
   "execution_count": 7,
   "metadata": {},
   "outputs": [
    {
     "name": "stdout",
     "output_type": "stream",
     "text": [
      "338\n"
     ]
    }
   ],
   "source": [
    "res = graph.query(f\"MATCH (n:{label}) RETURN COUNT(n) as count_\")\n",
    "entity_count = res[0].get('count_')\n",
    "print(entity_count)\n",
    "\n",
    "with open(str(load_script_path), 'r') as fp:\n",
    "    cypher_load = fp.read()"
   ]
  },
  {
   "cell_type": "code",
   "execution_count": 11,
   "metadata": {},
   "outputs": [],
   "source": [
    "for skip_count in range(0, entity_count, BATCH_SIZE):\n",
    "    res = graph.query(cypher_load, {'BATCH_SIZE':BATCH_SIZE, 'skip_count': skip_count})\n",
    "    index_input_data = [doc.data() for doc in res]\n",
    "    index_res = client.collections[SEARCH_INDEX_NAME].documents.import_(index_input_data, {'action': 'upsert'})"
   ]
  }
 ],
 "metadata": {
  "kernelspec": {
   "display_name": ".venv",
   "language": "python",
   "name": "python3"
  },
  "language_info": {
   "codemirror_mode": {
    "name": "ipython",
    "version": 3
   },
   "file_extension": ".py",
   "mimetype": "text/x-python",
   "name": "python",
   "nbconvert_exporter": "python",
   "pygments_lexer": "ipython3",
   "version": "3.10.3"
  }
 },
 "nbformat": 4,
 "nbformat_minor": 2
}
