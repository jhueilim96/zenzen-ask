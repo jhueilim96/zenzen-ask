{
 "cells": [
  {
   "cell_type": "code",
   "execution_count": 1,
   "metadata": {},
   "outputs": [],
   "source": [
    "import typesense\n",
    "import os\n",
    "from dotenv import load_dotenv"
   ]
  },
  {
   "cell_type": "code",
   "execution_count": 2,
   "metadata": {},
   "outputs": [],
   "source": [
    "load_dotenv()\n",
    "\n",
    "TYPESENSE_KEY = os.environ['typesense_key']"
   ]
  },
  {
   "cell_type": "code",
   "execution_count": 3,
   "metadata": {},
   "outputs": [],
   "source": [
    "client = typesense.Client({\n",
    "  'nodes': [{\n",
    "    'host': 'localhost',\n",
    "    'port': '8108',\n",
    "    'protocol': 'http'\n",
    "  }],\n",
    "  'api_key': TYPESENSE_KEY,\n",
    "  'connection_timeout_seconds': 2\n",
    "})"
   ]
  },
  {
   "cell_type": "code",
   "execution_count": 11,
   "metadata": {},
   "outputs": [
    {
     "data": {
      "text/plain": [
       "{'facet_counts': [],\n",
       " 'found': 2,\n",
       " 'hits': [{'document': {'aka': ['Gekijyouban Hagane no Renkinjutsushi - Shanbara wo Yuku Mono',\n",
       "     'Fullmetal Alchemist the Movie: Conqueror of Shamballa',\n",
       "     'Fullmetal Alchemist: The Conqueror of Shamballa',\n",
       "     'แขนกลคนแปรธาตุ เดอะมูฟวี่ฝ่ามิติพิชิตแดนสวรรค์',\n",
       "     'Giả kim thuật sư: Người chinh phục Shamballa'],\n",
       "    'id': 'https://www.bilibili.tv/media/36325',\n",
       "    'label': ['Anime'],\n",
       "    'site': 'Bilibili TV',\n",
       "    'site_type': 'STREAMING',\n",
       "    'title': 'Fullmetal Alchemist: The Movie - Conqueror of Shamballa',\n",
       "    'url': 'https://www.bilibili.tv/media/36325'},\n",
       "   'highlight': {'title': {'matched_tokens': ['Fullmetal',\n",
       "      'Alchemist',\n",
       "      'Movie'],\n",
       "     'snippet': '<mark>Fullmetal</mark> <mark>Alchemist</mark>: The <mark>Movie</mark> - Conqueror of Shamballa'}},\n",
       "   'highlights': [{'field': 'title',\n",
       "     'matched_tokens': ['Fullmetal', 'Alchemist', 'Movie'],\n",
       "     'snippet': '<mark>Fullmetal</mark> <mark>Alchemist</mark>: The <mark>Movie</mark> - Conqueror of Shamballa'}],\n",
       "   'text_match': 1736172819382796409,\n",
       "   'text_match_info': {'best_field_score': '3315704332288',\n",
       "    'best_field_weight': 15,\n",
       "    'fields_matched': 1,\n",
       "    'score': '1736172819382796409',\n",
       "    'tokens_matched': 3}},\n",
       "  {'document': {'aka': ['Gekijyouban Hagane no Renkinjutsushi - Shanbara wo Yuku Mono',\n",
       "     'Fullmetal Alchemist the Movie: Conqueror of Shamballa',\n",
       "     'Fullmetal Alchemist: The Conqueror of Shamballa',\n",
       "     'แขนกลคนแปรธาตุ เดอะมูฟวี่ฝ่ามิติพิชิตแดนสวรรค์',\n",
       "     'Giả kim thuật sư: Người chinh phục Shamballa'],\n",
       "    'id': 'https://www.crunchyroll.com/fullmetal-alchemist-the-conqueror-of-shamballa',\n",
       "    'label': ['Anime'],\n",
       "    'site': 'Crunchyroll',\n",
       "    'site_type': 'STREAMING',\n",
       "    'title': 'Fullmetal Alchemist: The Movie - Conqueror of Shamballa',\n",
       "    'url': 'https://www.crunchyroll.com/fullmetal-alchemist-the-conqueror-of-shamballa'},\n",
       "   'highlight': {'title': {'matched_tokens': ['Fullmetal',\n",
       "      'Alchemist',\n",
       "      'Movie'],\n",
       "     'snippet': '<mark>Fullmetal</mark> <mark>Alchemist</mark>: The <mark>Movie</mark> - Conqueror of Shamballa'}},\n",
       "   'highlights': [{'field': 'title',\n",
       "     'matched_tokens': ['Fullmetal', 'Alchemist', 'Movie'],\n",
       "     'snippet': '<mark>Fullmetal</mark> <mark>Alchemist</mark>: The <mark>Movie</mark> - Conqueror of Shamballa'}],\n",
       "   'text_match': 1736172819382796409,\n",
       "   'text_match_info': {'best_field_score': '3315704332288',\n",
       "    'best_field_weight': 15,\n",
       "    'fields_matched': 1,\n",
       "    'score': '1736172819382796409',\n",
       "    'tokens_matched': 3}}],\n",
       " 'out_of': 8733,\n",
       " 'page': 1,\n",
       " 'request_params': {'collection_name': 'webpage',\n",
       "  'per_page': 10,\n",
       "  'q': 'Fullmetal Alchemist Anime Movie'},\n",
       " 'search_cutoff': False,\n",
       " 'search_time_ms': 3}"
      ]
     },
     "execution_count": 11,
     "metadata": {},
     "output_type": "execute_result"
    }
   ],
   "source": [
    "search_parameters = {\n",
    "    'q'         : 'Fullmetal Alchemist Anime Movie',\n",
    "    'query_by'  : 'title',\n",
    "#   'filter_by' : 'num_employees:>100',\n",
    "#   'sort_by'   : 'num_employees:desc'\n",
    "}\n",
    "\n",
    "search_hits = client.collections['webpage'].documents.search(search_parameters)\n",
    "search_hits"
   ]
  },
  {
   "cell_type": "code",
   "execution_count": null,
   "metadata": {},
   "outputs": [],
   "source": []
  }
 ],
 "metadata": {
  "kernelspec": {
   "display_name": ".venv",
   "language": "python",
   "name": "python3"
  },
  "language_info": {
   "codemirror_mode": {
    "name": "ipython",
    "version": 3
   },
   "file_extension": ".py",
   "mimetype": "text/x-python",
   "name": "python",
   "nbconvert_exporter": "python",
   "pygments_lexer": "ipython3",
   "version": "3.10.13"
  }
 },
 "nbformat": 4,
 "nbformat_minor": 2
}
