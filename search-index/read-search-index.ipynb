{
 "cells": [
  {
   "cell_type": "code",
   "execution_count": 1,
   "metadata": {},
   "outputs": [],
   "source": [
    "import typesense\n",
    "import os\n",
    "from dotenv import load_dotenv"
   ]
  },
  {
   "cell_type": "code",
   "execution_count": 2,
   "metadata": {},
   "outputs": [],
   "source": [
    "load_dotenv()\n",
    "\n",
    "TYPESENSE_KEY = os.environ['typesense_key']"
   ]
  },
  {
   "cell_type": "code",
   "execution_count": 3,
   "metadata": {},
   "outputs": [],
   "source": [
    "client = typesense.Client({\n",
    "  'nodes': [{\n",
    "    'host': 'localhost',\n",
    "    'port': '8108',\n",
    "    'protocol': 'http'\n",
    "  }],\n",
    "  'api_key': TYPESENSE_KEY,\n",
    "  'connection_timeout_seconds': 2\n",
    "})"
   ]
  },
  {
   "cell_type": "code",
   "execution_count": 21,
   "metadata": {},
   "outputs": [
    {
     "data": {
      "text/plain": [
       "{'facet_counts': [],\n",
       " 'found': 1,\n",
       " 'hits': [{'document': {'age': 59,\n",
       "    'dateOfBirth': '1964-09-25',\n",
       "    'description': \"[Website](https://www.manbow.com/) | [Profile](http://office-anemone.com/mt-search.cgi?IncludeBlogs=4,5&tag=井上喜久子) | [Twitter](https://twitter.com/atmanbow_staff)\\n\\nMother of voice actress [Honoka Inoue](https://anilist.co/staff/129363/Honoka-Inoue). She has held a long-running gag of being 'eternally 17 years old'.\",\n",
       "    'gender': 'Female',\n",
       "    'homeTown': 'Yokosuka, Kanagawa Prefecture, Japan',\n",
       "    'id': 'People/95195',\n",
       "    'image_url': 'https://s4.anilist.co/file/anilistcdn/staff/medium/n95195-nLvtZl5sCK0D.png',\n",
       "    'language': 'Japanese',\n",
       "    'name': 'Kikuko Inoue',\n",
       "    'name_first': 'Kikuko',\n",
       "    'primaryOccupations': ['Voice Actor'],\n",
       "    'synonyms': ['Kikuko', 'Inoue', '井上喜久子', '井之上喜久子'],\n",
       "    'type': ['People'],\n",
       "    'url': 'https://anilist.co/staff/95195',\n",
       "    'yearsActive': [1988]},\n",
       "   'highlight': {'name': {'matched_tokens': ['Kikuko', 'Inoue'],\n",
       "     'snippet': '<mark>Kikuko</mark> <mark>Inoue</mark>'}},\n",
       "   'highlights': [{'field': 'name',\n",
       "     'matched_tokens': ['Kikuko', 'Inoue'],\n",
       "     'snippet': '<mark>Kikuko</mark> <mark>Inoue</mark>'}],\n",
       "   'text_match': 1157451471441625209,\n",
       "   'text_match_info': {'best_field_score': '2211897868544',\n",
       "    'best_field_weight': 15,\n",
       "    'fields_matched': 1,\n",
       "    'score': '1157451471441625209',\n",
       "    'tokens_matched': 2}}],\n",
       " 'out_of': 28759,\n",
       " 'page': 1,\n",
       " 'request_params': {'collection_name': 'entity',\n",
       "  'per_page': 10,\n",
       "  'q': 'Kikuko Inoue'},\n",
       " 'search_cutoff': False,\n",
       " 'search_time_ms': 2}"
      ]
     },
     "execution_count": 21,
     "metadata": {},
     "output_type": "execute_result"
    }
   ],
   "source": [
    "search_parameters = {\n",
    "    'q'         : 'sasuke uchiha',\n",
    "    'query_by'  : 'name',\n",
    "#   'filter_by' : 'num_employees:>100',\n",
    "#   'sort_by'   : 'num_employees:desc'\n",
    "}\n",
    "\n",
    "search_hits = client.collections['entity'].documents.search(search_parameters)\n",
    "search_hits"
   ]
  },
  {
   "cell_type": "code",
   "execution_count": 13,
   "metadata": {},
   "outputs": [
    {
     "data": {
      "text/plain": [
       "{'created_at': 1706362006,\n",
       " 'default_sorting_field': '',\n",
       " 'enable_nested_fields': False,\n",
       " 'fields': [{'facet': False,\n",
       "   'index': True,\n",
       "   'infix': False,\n",
       "   'locale': '',\n",
       "   'name': 'title',\n",
       "   'optional': True,\n",
       "   'sort': False,\n",
       "   'type': 'string'},\n",
       "  {'facet': False,\n",
       "   'index': True,\n",
       "   'infix': False,\n",
       "   'locale': '',\n",
       "   'name': 'url',\n",
       "   'optional': False,\n",
       "   'sort': False,\n",
       "   'type': 'string'},\n",
       "  {'facet': False,\n",
       "   'index': True,\n",
       "   'infix': False,\n",
       "   'locale': '',\n",
       "   'name': 'aka',\n",
       "   'optional': True,\n",
       "   'sort': False,\n",
       "   'type': 'string[]'},\n",
       "  {'facet': False,\n",
       "   'index': True,\n",
       "   'infix': False,\n",
       "   'locale': '',\n",
       "   'name': 'site',\n",
       "   'optional': True,\n",
       "   'sort': False,\n",
       "   'type': 'string'},\n",
       "  {'facet': False,\n",
       "   'index': True,\n",
       "   'infix': False,\n",
       "   'locale': '',\n",
       "   'name': 'site_type',\n",
       "   'optional': True,\n",
       "   'sort': False,\n",
       "   'type': 'string'},\n",
       "  {'facet': False,\n",
       "   'index': True,\n",
       "   'infix': False,\n",
       "   'locale': '',\n",
       "   'name': 'entity_type',\n",
       "   'optional': True,\n",
       "   'sort': False,\n",
       "   'type': 'string[]'}],\n",
       " 'name': 'webpage',\n",
       " 'num_documents': 8734,\n",
       " 'symbols_to_index': [],\n",
       " 'token_separators': []}"
      ]
     },
     "execution_count": 13,
     "metadata": {},
     "output_type": "execute_result"
    }
   ],
   "source": [
    "client.collections['webpage'].retrieve()"
   ]
  }
 ],
 "metadata": {
  "kernelspec": {
   "display_name": ".venv",
   "language": "python",
   "name": "python3"
  },
  "language_info": {
   "codemirror_mode": {
    "name": "ipython",
    "version": 3
   },
   "file_extension": ".py",
   "mimetype": "text/x-python",
   "name": "python",
   "nbconvert_exporter": "python",
   "pygments_lexer": "ipython3",
   "version": "3.10.13"
  }
 },
 "nbformat": 4,
 "nbformat_minor": 2
}
