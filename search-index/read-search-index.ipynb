{
 "cells": [
  {
   "cell_type": "code",
   "execution_count": null,
   "metadata": {},
   "outputs": [],
   "source": [
    "import typesense\n",
    "import os\n",
    "from dotenv import load_dotenv\n",
    "import yaml\n",
    "from pathlib import Path"
   ]
  },
  {
   "cell_type": "code",
   "execution_count": null,
   "metadata": {},
   "outputs": [],
   "source": [
    "load_dotenv()\n",
    "\n",
    "TYPESENSE_KEY = os.environ['typesense_key']"
   ]
  },
  {
   "cell_type": "code",
   "execution_count": null,
   "metadata": {},
   "outputs": [],
   "source": [
    "client = typesense.Client({\n",
    "  'nodes': [{\n",
    "    'host': 'localhost',\n",
    "    'port': '8108',\n",
    "    'protocol': 'http'\n",
    "  }],\n",
    "  'api_key': TYPESENSE_KEY,\n",
    "  'connection_timeout_seconds': 2\n",
    "})"
   ]
  },
  {
   "cell_type": "code",
   "execution_count": null,
   "metadata": {},
   "outputs": [],
   "source": [
    "schema_path = Path().cwd().parent / 'ani_dagster/ani_dagster/assets/search_index/index_schema.yml'"
   ]
  },
  {
   "cell_type": "code",
   "execution_count": null,
   "metadata": {},
   "outputs": [],
   "source": [
    "with open(schema_path, 'r') as fp:\n",
    "    schemas = yaml.safe_load(fp)"
   ]
  },
  {
   "cell_type": "code",
   "execution_count": null,
   "metadata": {},
   "outputs": [],
   "source": [
    "client.collections['entity2'].update({\n",
    "    'fields': [\n",
    "    {\n",
    "      'name'  :  'type',\n",
    "      'drop'  :  True\n",
    "    },\n",
    "    {\n",
    "      'name'  :  'type',\n",
    "      'type'  :  'string[]',\n",
    "      'index' : True,\n",
    "      'optional': False,\n",
    "      'facet': True,\n",
    "    }\n",
    "    ]\n",
    "})"
   ]
  },
  {
   "cell_type": "code",
   "execution_count": null,
   "metadata": {},
   "outputs": [],
   "source": [
    "from pydantic import BaseModel\n",
    "from typing import Any\n",
    "\n",
    "class Hit(BaseModel):\n",
    "    document: dict[str, Any]\n",
    "    text_match: int\n",
    "    highlights: list[dict[str, Any]]\n",
    "\n",
    "class TypesenseSearchResult(BaseModel):\n",
    "    found: int\n",
    "    hits: list[Hit]\n",
    "    page: int\n",
    "    search_time_ms: int\n",
    "\n",
    "class TypesenseMultiSearchResult(BaseModel):\n",
    "    results: list[TypesenseSearchResult]\n"
   ]
  },
  {
   "cell_type": "code",
   "execution_count": null,
   "metadata": {},
   "outputs": [],
   "source": [
    "search_parameters = {\n",
    "    'q'         : 'naruto',\n",
    "    'query_by'  : 'title',\n",
    "#   'filter_by' : 'num_employees:>100',\n",
    "#   'sort_by'   : 'num_employees:desc'\n",
    "}\n",
    "\n",
    "search_hits = client.collections['webpage2'].documents.search(search_parameters)\n",
    "search_result = TypesenseSearchResult.parse_obj(search_hits)"
   ]
  },
  {
   "cell_type": "code",
   "execution_count": null,
   "metadata": {},
   "outputs": [],
   "source": [
    "search_result"
   ]
  },
  {
   "cell_type": "code",
   "execution_count": null,
   "metadata": {},
   "outputs": [],
   "source": [
    "q = 'naruto movie'\n",
    "search_requests = {\n",
    "    'searches': [\n",
    "    {\n",
    "        'collection': 'webpage',\n",
    "        'q': q,\n",
    "        'query_by': 'title, url, aka',\n",
    "    },\n",
    "    {\n",
    "        'collection': 'entity',\n",
    "        'q': q,\n",
    "        'query_by': 'name, type, description',\n",
    "    }\n",
    "    ]\n",
    "}\n",
    "\n",
    "# Search parameters that are common to all searches go here\n",
    "common_search_params =  {\n",
    "    # 'query_by': 'name',\n",
    "}\n",
    "\n",
    "search_hits = client.multi_search.perform(search_requests, common_search_params)\n",
    "multi_search_result = TypesenseMultiSearchResult.model_validate(search_hits)"
   ]
  },
  {
   "cell_type": "code",
   "execution_count": null,
   "metadata": {},
   "outputs": [],
   "source": [
    "search_hits['results'][1]\n",
    "# multi_search_result.model_dump()"
   ]
  },
  {
   "cell_type": "code",
   "execution_count": null,
   "metadata": {},
   "outputs": [],
   "source": []
  }
 ],
 "metadata": {
  "kernelspec": {
   "display_name": ".venv",
   "language": "python",
   "name": "python3"
  },
  "language_info": {
   "codemirror_mode": {
    "name": "ipython",
    "version": 3
   },
   "file_extension": ".py",
   "mimetype": "text/x-python",
   "name": "python",
   "nbconvert_exporter": "python",
   "pygments_lexer": "ipython3",
   "version": "3.10.13"
  }
 },
 "nbformat": 4,
 "nbformat_minor": 2
}
