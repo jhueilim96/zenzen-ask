{
 "cells": [
  {
   "cell_type": "code",
   "execution_count": 1,
   "metadata": {},
   "outputs": [],
   "source": [
    "import typesense\n",
    "import os\n",
    "from dotenv import load_dotenv"
   ]
  },
  {
   "cell_type": "code",
   "execution_count": 2,
   "metadata": {},
   "outputs": [],
   "source": [
    "load_dotenv()\n",
    "\n",
    "TYPESENSE_KEY = os.environ['typesense_key']"
   ]
  },
  {
   "cell_type": "code",
   "execution_count": 3,
   "metadata": {},
   "outputs": [],
   "source": [
    "client = typesense.Client({\n",
    "  'nodes': [{\n",
    "    'host': 'localhost',\n",
    "    'port': '8108',\n",
    "    'protocol': 'http'\n",
    "  }],\n",
    "  'api_key': TYPESENSE_KEY,\n",
    "  'connection_timeout_seconds': 2\n",
    "})"
   ]
  },
  {
   "cell_type": "code",
   "execution_count": 13,
   "metadata": {},
   "outputs": [],
   "source": [
    "search_parameters = {\n",
    "  'q'         : 'ghibli studio',\n",
    "   'query_by'  : 'name',\n",
    "#   'filter_by' : 'num_employees:>100',\n",
    "#   'sort_by'   : 'num_employees:desc'\n",
    "}\n",
    "\n",
    "search_hits = client.collections['entity'].documents.search(search_parameters)"
   ]
  },
  {
   "cell_type": "code",
   "execution_count": 14,
   "metadata": {},
   "outputs": [
    {
     "data": {
      "text/plain": [
       "{'facet_counts': [],\n",
       " 'found': 1,\n",
       " 'hits': [{'document': {'id': 'studio/21',\n",
       "    'name': '\"Studio Ghibli\"',\n",
       "    'type': ['Studio']},\n",
       "   'highlight': {'name': {'matched_tokens': ['Studio', 'Ghibli'],\n",
       "     'snippet': '\"<mark>Studio</mark> <mark>Ghibli</mark>\"'}},\n",
       "   'highlights': [{'field': 'name',\n",
       "     'matched_tokens': ['Studio', 'Ghibli'],\n",
       "     'snippet': '\"<mark>Studio</mark> <mark>Ghibli</mark>\"'}],\n",
       "   'text_match': 1157451471441625209,\n",
       "   'text_match_info': {'best_field_score': '2211897868544',\n",
       "    'best_field_weight': 15,\n",
       "    'fields_matched': 1,\n",
       "    'score': '1157451471441625209',\n",
       "    'tokens_matched': 2}}],\n",
       " 'out_of': 9637,\n",
       " 'page': 1,\n",
       " 'request_params': {'collection_name': 'entity',\n",
       "  'per_page': 10,\n",
       "  'q': 'ghibli studio'},\n",
       " 'search_cutoff': False,\n",
       " 'search_time_ms': 0}"
      ]
     },
     "execution_count": 14,
     "metadata": {},
     "output_type": "execute_result"
    }
   ],
   "source": [
    "search_hits"
   ]
  },
  {
   "cell_type": "code",
   "execution_count": null,
   "metadata": {},
   "outputs": [],
   "source": []
  }
 ],
 "metadata": {
  "kernelspec": {
   "display_name": ".venv",
   "language": "python",
   "name": "python3"
  },
  "language_info": {
   "codemirror_mode": {
    "name": "ipython",
    "version": 3
   },
   "file_extension": ".py",
   "mimetype": "text/x-python",
   "name": "python",
   "nbconvert_exporter": "python",
   "pygments_lexer": "ipython3",
   "version": "3.10.3"
  }
 },
 "nbformat": 4,
 "nbformat_minor": 2
}
