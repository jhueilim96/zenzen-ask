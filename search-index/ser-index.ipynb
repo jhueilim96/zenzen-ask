{
 "cells": [
  {
   "cell_type": "markdown",
   "metadata": {},
   "source": [
    "## Setup Webpage Index"
   ]
  },
  {
   "cell_type": "code",
   "execution_count": 11,
   "metadata": {},
   "outputs": [],
   "source": [
    "import typesense\n",
    "import os\n",
    "from dotenv import load_dotenv"
   ]
  },
  {
   "cell_type": "code",
   "execution_count": 10,
   "metadata": {},
   "outputs": [],
   "source": [
    "load_dotenv()\n",
    "\n",
    "TYPESENSE_KEY = os.environ['typesense_key']"
   ]
  },
  {
   "cell_type": "code",
   "execution_count": 6,
   "metadata": {},
   "outputs": [],
   "source": [
    "client = typesense.Client({\n",
    "  'nodes': [{\n",
    "    'host': 'localhost', # For Typesense Cloud use xxx.a1.typesense.net\n",
    "    'port': '8108',      # For Typesense Cloud use 443\n",
    "    'protocol': 'http'   # For Typesense Cloud use https\n",
    "  }],\n",
    "  'api_key': TYPESENSE_KEY,\n",
    "  'connection_timeout_seconds': 2\n",
    "})"
   ]
  },
  {
   "cell_type": "code",
   "execution_count": 37,
   "metadata": {},
   "outputs": [],
   "source": [
    "schema = {\n",
    "  'name': 'webpage',\n",
    "  'fields': [\n",
    "    # {'name': 'title', 'drop':True },\n",
    "    # {'name': 'url', 'drop':True },\n",
    "    # {'name': 'aka', 'drop':True },\n",
    "    # {'name': 'site', 'drop':True },\n",
    "    # {'name': 'site_type', 'drop':True },\n",
    "    # {'name': 'entity_type', 'drop':True },\n",
    "    {'name': 'id', 'type': 'string',  },\n",
    "    {'name': 'title', 'type': 'string', 'optional': True },\n",
    "    {'name': 'url', 'type': 'string', },\n",
    "    {'name': 'aka', 'type': 'string[]', 'optional': True  },\n",
    "    {'name': 'site', 'type': 'string', 'optional': True  },\n",
    "    {'name': 'site_type', 'type': 'string', 'optional': True },\n",
    "    {'name': 'entity_type', 'type': 'string[]', 'optional': True },\n",
    "  ]\n",
    "}"
   ]
  },
  {
   "cell_type": "code",
   "execution_count": 38,
   "metadata": {},
   "outputs": [],
   "source": [
    "res = client.collections.create(schema)\n",
    "# res = client.collections['webpage'].update(schema)"
   ]
  },
  {
   "cell_type": "markdown",
   "metadata": {},
   "source": [
    "## Indexing Data from neo4j"
   ]
  },
  {
   "cell_type": "code",
   "execution_count": 27,
   "metadata": {},
   "outputs": [],
   "source": [
    "from neo4j import GraphDatabase\n",
    "from pathlib import Path\n",
    "import pandas as pd"
   ]
  },
  {
   "cell_type": "code",
   "execution_count": 12,
   "metadata": {},
   "outputs": [],
   "source": [
    "neo4j_uri = os.environ['neo4j_uri']\n",
    "neo4j_username = os.environ['neo4j_username']\n",
    "neo4j_password = os.environ['neo4j_password']\n",
    "neo4j_dbname = os.environ['neo4j_dbname']"
   ]
  },
  {
   "cell_type": "code",
   "execution_count": 13,
   "metadata": {},
   "outputs": [],
   "source": [
    "class Neo4jGraph:\n",
    "\n",
    "    def __init__(self, neo4j_uri:str, neo4j_username:str, neo4j_password:str, db:str)->None:\n",
    "        self.uri  = neo4j_uri\n",
    "        self.auth = (neo4j_username, neo4j_password)\n",
    "        self.db = db\n",
    "        self.driver = GraphDatabase.driver(self.uri, auth=self.auth)\n",
    "\n",
    "    def query(self, query:str, params:dict={}):\n",
    "        with self.driver.session(database=self.db) as session:\n",
    "            result = session.run(query, params)\n",
    "            return [r for r in result]"
   ]
  },
  {
   "cell_type": "code",
   "execution_count": 14,
   "metadata": {},
   "outputs": [],
   "source": [
    "graph = Neo4jGraph(\n",
    "    neo4j_uri,\n",
    "    neo4j_username,\n",
    "    neo4j_password,\n",
    "    neo4j_dbname,\n",
    ")"
   ]
  },
  {
   "cell_type": "code",
   "execution_count": 22,
   "metadata": {},
   "outputs": [],
   "source": [
    "load_script_path = Path(f\"cypher-query/ser-webpage-retrieve.cypher\")\n",
    "count_script_path = Path(f\"cypher-query/ser-webpage-count.cypher\")\n",
    "BATCH_SIZE = 10000\n",
    "SEARCH_INDEX_NAME = 'webpage'"
   ]
  },
  {
   "cell_type": "code",
   "execution_count": 40,
   "metadata": {},
   "outputs": [],
   "source": [
    "with open(str(load_script_path), 'r') as fp:\n",
    "    cypher_load = fp.read()\n",
    "with open(str(count_script_path), 'r') as fp:\n",
    "    cypher_count = fp.read()"
   ]
  },
  {
   "cell_type": "code",
   "execution_count": 41,
   "metadata": {},
   "outputs": [
    {
     "name": "stdout",
     "output_type": "stream",
     "text": [
      "8776\n"
     ]
    }
   ],
   "source": [
    "res = graph.query(cypher_count)\n",
    "entity_count = res[0].get('count_')\n",
    "print(entity_count)"
   ]
  },
  {
   "cell_type": "code",
   "execution_count": 44,
   "metadata": {},
   "outputs": [],
   "source": [
    "for skip_count in range(0, entity_count, BATCH_SIZE):\n",
    "    res = graph.query(cypher_load, {'BATCH_SIZE':BATCH_SIZE, 'skip_count': skip_count})\n",
    "    index_input_data = [doc.data() for doc in res]\n",
    "    index_res = client.collections[SEARCH_INDEX_NAME].documents.import_(index_input_data, {'action': 'upsert'})"
   ]
  },
  {
   "cell_type": "code",
   "execution_count": 45,
   "metadata": {},
   "outputs": [
    {
     "data": {
      "text/plain": [
       "{'success': True}    8776\n",
       "Name: count, dtype: int64"
      ]
     },
     "execution_count": 45,
     "metadata": {},
     "output_type": "execute_result"
    }
   ],
   "source": [
    "pd.Series(index_res).value_counts()"
   ]
  },
  {
   "cell_type": "code",
   "execution_count": 47,
   "metadata": {},
   "outputs": [],
   "source": [
    "data_violate = {\n",
    "    'id': 'https://localhost/test',\n",
    "    'title': 'data violate',\n",
    "    'url': 'https://localhost/test',\n",
    "    'label': ['Data'],\n",
    "    'test_field': False\n",
    "}"
   ]
  },
  {
   "cell_type": "code",
   "execution_count": 48,
   "metadata": {},
   "outputs": [
    {
     "data": {
      "text/plain": [
       "[{'success': True}]"
      ]
     },
     "execution_count": 48,
     "metadata": {},
     "output_type": "execute_result"
    }
   ],
   "source": [
    "client.collections[SEARCH_INDEX_NAME].documents.import_([data_violate], {'action': 'upsert'})"
   ]
  }
 ],
 "metadata": {
  "kernelspec": {
   "display_name": ".venv",
   "language": "python",
   "name": "python3"
  },
  "language_info": {
   "codemirror_mode": {
    "name": "ipython",
    "version": 3
   },
   "file_extension": ".py",
   "mimetype": "text/x-python",
   "name": "python",
   "nbconvert_exporter": "python",
   "pygments_lexer": "ipython3",
   "version": "3.10.13"
  }
 },
 "nbformat": 4,
 "nbformat_minor": 2
}
